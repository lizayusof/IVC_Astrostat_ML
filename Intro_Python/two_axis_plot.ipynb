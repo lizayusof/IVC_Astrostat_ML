{
 "cells": [
  {
   "cell_type": "code",
   "execution_count": 1,
   "id": "6d4ec01a",
   "metadata": {},
   "outputs": [
    {
     "name": "stdout",
     "output_type": "stream",
     "text": [
      "     Temperature              L          R    A_M  Color Spectral_Class  Type\n",
      "0           3068       0.002400     0.1700  16.12    Red              M     0\n",
      "1           3042       0.000500     0.1542  16.60    Red              M     0\n",
      "2           2600       0.000300     0.1020  18.70    Red              M     0\n",
      "3           2800       0.000200     0.1600  16.65    Red              M     0\n",
      "4           1939       0.000138     0.1030  20.06    Red              M     0\n",
      "..           ...            ...        ...    ...    ...            ...   ...\n",
      "235        38940  374830.000000  1356.0000  -9.93   Blue              O     5\n",
      "236        30839  834042.000000  1194.0000 -10.63   Blue              O     5\n",
      "237         8829  537493.000000  1423.0000 -10.73  White              A     5\n",
      "238         9235  404940.000000  1112.0000 -11.23  White              A     5\n",
      "239        37882  294903.000000  1783.0000  -7.80   Blue              O     5\n",
      "\n",
      "[240 rows x 7 columns]\n"
     ]
    }
   ],
   "source": [
    "#Example how to create two y-axis\n",
    "import matplotlib.pyplot as plt\n",
    "import pandas as pd\n",
    "import numpy as np\n",
    "\n",
    "#read data\n",
    "df = pd.read_csv('../data/Stars.csv', header=0)\n",
    "print(df)"
   ]
  },
  {
   "cell_type": "code",
   "execution_count": 2,
   "id": "515538bd",
   "metadata": {},
   "outputs": [
    {
     "data": {
      "text/plain": [
       "Text(0, 0.5, 'R')"
      ]
     },
     "execution_count": 2,
     "metadata": {},
     "output_type": "execute_result"
    },
    {
     "data": {
      "image/png": "[encoded data removed]",
      "text/plain": [
       "<Figure size 432x288 with 2 Axes>"
      ]
     },
     "metadata": {
      "needs_background": "light"
     },
     "output_type": "display_data"
    }
   ],
   "source": [
    "#plot two variables in y-axis\n",
    "#create frame\n",
    "fig,ax1=plt.subplots()\n",
    "#first y-axis\n",
    "ax1.plot(df['Temperature'], np.log(df['L']),'yo')\n",
    "ax1.set_xlabel('Temperature [K]')\n",
    "ax1.set_ylabel('$\\log$ L')\n",
    "#second y-axis\n",
    "ax2 = ax1.twinx()\n",
    "ax2.plot(df['Temperature'], df['R'],'kd')\n",
    "ax2.set_ylabel('R')"
   ]
  },
  {
   "cell_type": "code",
   "execution_count": 3,
   "id": "0985b012",
   "metadata": {},
   "outputs": [
    {
     "data": {
      "text/plain": [
       "<Figure size 432x288 with 0 Axes>"
      ]
     },
     "metadata": {},
     "output_type": "display_data"
    }
   ],
   "source": [
    "#to save your file\n",
    "plt.savefig('star.png') #it will save to your figure the same location of your code"
   ]
  },
  {
   "cell_type": "code",
   "execution_count": null,
   "id": "1cc62ccc",
   "metadata": {},
   "outputs": [],
   "source": []
  }
 ],
 "metadata": {
  "kernelspec": {
   "display_name": "Python 3",
   "language": "python",
   "name": "python3"
  },
  "language_info": {
   "codemirror_mode": {
    "name": "ipython",
    "version": 3
   },
   "file_extension": ".py",
   "mimetype": "text/x-python",
   "name": "python",
   "nbconvert_exporter": "python",
   "pygments_lexer": "ipython3",
   "version": "3.7.10"
  }
 },
 "nbformat": 4,
 "nbformat_minor": 5
}
