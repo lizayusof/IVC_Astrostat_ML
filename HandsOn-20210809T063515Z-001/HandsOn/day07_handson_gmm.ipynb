{
 "cells": [
  {
   "cell_type": "markdown",
   "metadata": {
    "id": "dmm0vOkQRpC9"
   },
   "source": [
    "# **Hands-On: Open Cluster Membership Determination using Hierarchical Density-Based Spatial Clustering of Applications with Noise (HDBSCAN) and Gaussian Mixture Model (GMM) - Part 2** \n",
    "\n",
    "Authors : Salma Zahra Fadiyah, Irfan Imaduddin,  M. Ikbal Arifyanto <br>\n",
    "Version : 1.0 <br>\n",
    "Date : 22 July 2021 <br>\n",
    "Contact : salmazahraa[at]gmail[dot]com <br>\n",
    "\n",
    "---"
   ]
  },
  {
   "cell_type": "markdown",
   "metadata": {
    "id": "y0sMT_Ds8oVB"
   },
   "source": [
    "## Welcome!\n",
    "\n",
    "<p align = \"justify\">  In this workshop, we will determine the cluster members of an open cluster using Hierarchical Density-Based Spatial Clustering of Applications with Noise (HDBSCAN) and Gaussian Mixture Model (GMM). This is the second part of two hands-on series. The first part has held yesterday (20/08/07). The open cluster data that will be used is NGC 752 from Gaia Early Data Release 3 (eDR3). </p> \n",
    "\n",
    "Hands-on part one: [day06_handson_hdbscan.ipynb](https://colab.research.google.com/drive/1dr1erdUtwVzeWnRlNTgfDK8GJu8YBXJ7?usp=sharing)\n"
   ]
  },
  {
   "cell_type": "markdown",
   "metadata": {
    "id": "neQNmi3wh9pg"
   },
   "source": [
    "## 1. Theoretical Background"
   ]
  },
  {
   "cell_type": "markdown",
   "metadata": {
    "id": "OCx2gKYy61as"
   },
   "source": [
    "<p align = \"justify\"> Gaussian Mixture Model (GMM, McLachlan & Peel 2000) is a clustering method. In other words, GMM is a model to identify the existence of a sub-population within a population itself. This is an unsupervised algorithm, so we don't need to know physics of the cluster before using this method. Gaussian Mixture is a model that is comprised of several Gaussians, each identified by k ∈ {1,…, K}, where K is the number of clusters of the sample. Each gaussian has expected value ($\\mu$) that defines its center, covariance ($\\Sigma$) that defines its width dan mixing probability ($\\pi$) that defines its ratio with other gaussian function.\n",
    "</p>"
   ]
  },
  {
   "cell_type": "markdown",
   "metadata": {
    "id": "auCa_8N_h1l-"
   },
   "source": [
    "<figure>\n",
    "  <img src=\"https://angusturner.github.io/assets/images/mixture.png\" alt=\"Trulli\" width = \"500px\">\n",
    "  <figcaption align=\"left\"> Fig 1. Illustration of 1D Gaussian Mixture Model with 2 gaussian components (source: angusturner.github.io) </figcaption> \n",
    "</figure>"
   ]
  },
  {
   "cell_type": "markdown",
   "metadata": {
    "id": "CS38TqSdiECp"
   },
   "source": [
    "<p align = \"justify\"> Before the calculation is started, the data in $M$-parameter space [$x^1, x^2, x^3, ..., x^M$] should be normalized. For $N$ data points, the normalized data point in $j$th dimension ($X^j_i$) is defined by Agarwal et al. (2021) as:\n",
    "\\begin{eqnarray}\n",
    "X^j_i = \\frac{x^j_i - \\mu^j}{\\sigma^j} (i=1, 2, ..., N; j=1, 2, ..., M) \\\\\n",
    "\\end{eqnarray}\n",
    "\n",
    "where $x^j_i$ is the original parameter, $\\mu^j$ is the median of the $x^j$ distribution and $\\sigma^j$ is standard deviation of the distribution. For $N$ data points $x = \\{x_1, x_2, x_3, ..., x_N\\}$ in an $M$-dimensional parameter space, the $K$-component GMM is defined as:\n",
    "</p>\n",
    "\n",
    "\\begin{eqnarray}\n",
    "P(x) = \\Sigma^K_{i=1}w_iG(x|\\mu_i,\\Sigma_i) \\\\\n",
    "\\end{eqnarray}\n",
    "where,\n",
    "\n",
    "\\begin{eqnarray}\n",
    "P(x) &=& \\Sigma^K_{i=1}w_i = 1 \\\\\n",
    "G(x|\\mu_i,\\Sigma_i) &=& \\frac{exp[-0.5(x-\\mu_i)^T\\Sigma^{-1}_{i}(x-\\mu_i)]}{(2\\pi)^{M/2}\\sqrt{|\\Sigma_{i}|}} \\\\\n",
    "\\end{eqnarray}\n",
    "\n",
    "<p align = \"justify\"> $w_i$ is defined as the mixture weight of the $i$th Gaussian component $G(x|\\mu_i,\\Sigma_i)$. $\\mu_i$ and $\\Sigma_i$ are the mean vector and the full covariance matrix of the $i$th Gaussian component, respectively. \n",
    "</p>\n"
   ]
  },
  {
   "cell_type": "markdown",
   "metadata": {
    "id": "IZaA3TyWiVQK"
   },
   "source": [
    "## 2. Workshop Structure\n",
    "\n",
    "<p align = \"justify\"> The workshop is made up of two Jupyter Notebooks. The layout of the workshop is as follows:\n",
    "<ol type=\"1\">\n",
    "<li>Determine the center of the open cluster.</li>\n",
    "<li>Determine the membership probability.</li>\n",
    "</ol>\n",
    "</p>\n",
    "\n",
    "<p align = \"justify\"> Our membership assignment relies on the astrometric solution, and we only used the Gaia eDR3 photometry to manually confirm that the groups identified matched the expected aspect of a cluster in a colour-magnitude diagram.\n",
    "</p>"
   ]
  },
  {
   "cell_type": "markdown",
   "metadata": {
    "id": "kzcR7dqw0CTA"
   },
   "source": [
    "### Part 1: [Determine the Center of the Open Cluster](https://colab.research.google.com/drive/1dr1erdUtwVzeWnRlNTgfDK8GJu8YBXJ7?usp=sharing) "
   ]
  },
  {
   "cell_type": "markdown",
   "metadata": {
    "id": "NiopkDXn0X-I"
   },
   "source": [
    "### Part 2: Determine the Membership Probability"
   ]
  },
  {
   "cell_type": "markdown",
   "metadata": {
    "id": "M3N7UMkS64No"
   },
   "source": [
    "#### Setup\n",
    "\n",
    "\n",
    "\n",
    "\n"
   ]
  },
  {
   "cell_type": "markdown",
   "metadata": {
    "id": "M_jUToKG8CR3"
   },
   "source": [
    "To determine the membership probability of each star around the open cluster NGC 752, we will use a module in python called [sklearn.mixture.GaussianMixture](https://scikit-learn.org/stable/modules/generated/sklearn.mixture.GaussianMixture.html). The algorithm is referred to the study conducted by [Agarwal et al. (2021)](https://academic.oup.com/mnras/article/502/2/2582/6133058). If this notebook is run on gColab, firstly we need to install some libraries."
   ]
  },
  {
   "cell_type": "code",
   "execution_count": 1,
   "metadata": {
    "colab": {
     "base_uri": "https://localhost:8080/"
    },
    "executionInfo": {
     "elapsed": 6413,
     "status": "ok",
     "timestamp": 1627096863217,
     "user": {
      "displayName": "Salma Zahra",
      "photoUrl": "https://lh3.googleusercontent.com/a-/AOh14GiOhalU5s9Gc7ZjGeoJYHAxF0cKybWTvAso5BHsHw=s64",
      "userId": "08028390035877018947"
     },
     "user_tz": -420
    },
    "id": "3rxPVJdglaAs",
    "outputId": "d571717d-34b1-4cd9-ab1f-2981988044c6"
   },
   "outputs": [
    {
     "name": "stdout",
     "output_type": "stream",
     "text": [
      "Requirement already satisfied: sklearn in /usr/local/lib/python3.7/dist-packages (0.0)\n",
      "Requirement already satisfied: scikit-learn in /usr/local/lib/python3.7/dist-packages (from sklearn) (0.22.2.post1)\n",
      "Requirement already satisfied: scipy>=0.17.0 in /usr/local/lib/python3.7/dist-packages (from scikit-learn->sklearn) (1.4.1)\n",
      "Requirement already satisfied: numpy>=1.11.0 in /usr/local/lib/python3.7/dist-packages (from scikit-learn->sklearn) (1.19.5)\n",
      "Requirement already satisfied: joblib>=0.11 in /usr/local/lib/python3.7/dist-packages (from scikit-learn->sklearn) (1.0.1)\n",
      "Requirement already satisfied: astropy in /usr/local/lib/python3.7/dist-packages (4.2.1)\n",
      "Requirement already satisfied: pyerfa in /usr/local/lib/python3.7/dist-packages (from astropy) (2.0.0)\n",
      "Requirement already satisfied: numpy>=1.17 in /usr/local/lib/python3.7/dist-packages (from astropy) (1.19.5)\n"
     ]
    }
   ],
   "source": [
    "import sys\n",
    "IN_COLAB = 'google.colab' in sys.modules\n",
    "\n",
    "if IN_COLAB:\n",
    "    !pip install sklearn\n",
    "    !pip install astropy"
   ]
  },
  {
   "cell_type": "markdown",
   "metadata": {
    "id": "lG_IEYN6RpDC"
   },
   "source": [
    "Import the required packages"
   ]
  },
  {
   "cell_type": "code",
   "execution_count": 1,
   "metadata": {
    "execution": {
     "iopub.execute_input": "2021-08-10T07:53:36.315822Z",
     "iopub.status.busy": "2021-08-10T07:53:36.314467Z",
     "iopub.status.idle": "2021-08-10T07:53:41.904291Z",
     "shell.execute_reply": "2021-08-10T07:53:41.901340Z",
     "shell.execute_reply.started": "2021-08-10T07:53:36.315571Z"
    },
    "executionInfo": {
     "elapsed": 1938,
     "status": "ok",
     "timestamp": 1627096865152,
     "user": {
      "displayName": "Salma Zahra",
      "photoUrl": "https://lh3.googleusercontent.com/a-/AOh14GiOhalU5s9Gc7ZjGeoJYHAxF0cKybWTvAso5BHsHw=s64",
      "userId": "08028390035877018947"
     },
     "user_tz": -420
    },
    "id": "rGtGTo5RRpDD",
    "tags": []
   },
   "outputs": [],
   "source": [
    "import math\n",
    "import matplotlib.pyplot as plt\n",
    "\n",
    "import numpy as np\n",
    "import pandas as pd\n",
    "\n",
    "from astropy.coordinates import SkyCoord\n",
    "import astropy.units as u\n",
    "\n",
    "from sklearn.mixture import GaussianMixture\n",
    "from sklearn.preprocessing import StandardScaler"
   ]
  },
  {
   "cell_type": "markdown",
   "metadata": {
    "id": "33xuiD96hcF3"
   },
   "source": [
    "Set some plotting configurations"
   ]
  },
  {
   "cell_type": "code",
   "execution_count": 2,
   "metadata": {
    "execution": {
     "iopub.execute_input": "2021-08-10T07:55:15.119284Z",
     "iopub.status.busy": "2021-08-10T07:55:15.118392Z",
     "iopub.status.idle": "2021-08-10T07:55:15.139496Z",
     "shell.execute_reply": "2021-08-10T07:55:15.136973Z",
     "shell.execute_reply.started": "2021-08-10T07:55:15.119212Z"
    },
    "executionInfo": {
     "elapsed": 8,
     "status": "ok",
     "timestamp": 1627096865153,
     "user": {
      "displayName": "Salma Zahra",
      "photoUrl": "https://lh3.googleusercontent.com/a-/AOh14GiOhalU5s9Gc7ZjGeoJYHAxF0cKybWTvAso5BHsHw=s64",
      "userId": "08028390035877018947"
     },
     "user_tz": -420
    },
    "id": "9WOKswikhdEu",
    "tags": []
   },
   "outputs": [],
   "source": [
    "SMALL_SIZE = 12\n",
    "MEDIUM_SIZE = 14\n",
    "BIGGER_SIZE = 25\n",
    "\n",
    "plt.rc('font', size=SMALL_SIZE)          # controls default text sizes\n",
    "plt.rc('axes', titlesize=SMALL_SIZE)     # fontsize of the axes title\n",
    "plt.rc('axes', labelsize=MEDIUM_SIZE)    # fontsize of the x and y labels\n",
    "plt.rc('xtick', labelsize=SMALL_SIZE)    # fontsize of the tick labels\n",
    "plt.rc('ytick', labelsize=SMALL_SIZE)    # fontsize of the tick labels\n",
    "plt.rc('legend', fontsize=10)            # legend fontsize\n",
    "\n",
    "%matplotlib inline"
   ]
  },
  {
   "cell_type": "markdown",
   "metadata": {
    "id": "VykOSFQ88woO"
   },
   "source": [
    "\n",
    "\n",
    "---\n",
    "\n",
    "\n",
    "#### Data Preparation"
   ]
  },
  {
   "cell_type": "markdown",
   "metadata": {
    "id": "3mGwKeHpRpDF"
   },
   "source": [
    "Import data file"
   ]
  },
  {
   "cell_type": "code",
   "execution_count": 3,
   "metadata": {
    "execution": {
     "iopub.execute_input": "2021-08-10T07:55:26.496492Z",
     "iopub.status.busy": "2021-08-10T07:55:26.495769Z",
     "iopub.status.idle": "2021-08-10T07:55:29.622375Z",
     "shell.execute_reply": "2021-08-10T07:55:29.620274Z",
     "shell.execute_reply.started": "2021-08-10T07:55:26.496427Z"
    },
    "executionInfo": {
     "elapsed": 1249,
     "status": "ok",
     "timestamp": 1627096868300,
     "user": {
      "displayName": "Salma Zahra",
      "photoUrl": "https://lh3.googleusercontent.com/a-/AOh14GiOhalU5s9Gc7ZjGeoJYHAxF0cKybWTvAso5BHsHw=s64",
      "userId": "08028390035877018947"
     },
     "user_tz": -420
    },
    "id": "cjMn8kGOjlB9",
    "tags": []
   },
   "outputs": [],
   "source": [
    "FILENAME = \"gaiaedr3_180_NGC752.csv\"\n",
    "datafile = pd.read_csv(FILENAME, delimiter=\",\") "
   ]
  },
  {
   "cell_type": "markdown",
   "metadata": {
    "id": "OgbXN534jHne"
   },
   "source": [
    "Summary of data feature"
   ]
  },
  {
   "cell_type": "code",
   "execution_count": 4,
   "metadata": {
    "colab": {
     "base_uri": "https://localhost:8080/"
    },
    "execution": {
     "iopub.execute_input": "2021-08-10T07:56:08.174754Z",
     "iopub.status.busy": "2021-08-10T07:56:08.174013Z",
     "iopub.status.idle": "2021-08-10T07:56:08.257424Z",
     "shell.execute_reply": "2021-08-10T07:56:08.255300Z",
     "shell.execute_reply.started": "2021-08-10T07:56:08.174686Z"
    },
    "executionInfo": {
     "elapsed": 4,
     "status": "ok",
     "timestamp": 1627096868715,
     "user": {
      "displayName": "Salma Zahra",
      "photoUrl": "https://lh3.googleusercontent.com/a-/AOh14GiOhalU5s9Gc7ZjGeoJYHAxF0cKybWTvAso5BHsHw=s64",
      "userId": "08028390035877018947"
     },
     "user_tz": -420
    },
    "id": "ikScpvOTRpDG",
    "outputId": "200866d5-dd52-4c60-aa8e-de7d80423928",
    "tags": []
   },
   "outputs": [
    {
     "name": "stdout",
     "output_type": "stream",
     "text": [
      "<class 'pandas.core.frame.DataFrame'>\n",
      "RangeIndex: 276559 entries, 0 to 276558\n",
      "Data columns (total 23 columns):\n",
      " #   Column                     Non-Null Count   Dtype  \n",
      "---  ------                     --------------   -----  \n",
      " 0   source_id                  276559 non-null  int64  \n",
      " 1   ra                         276559 non-null  float64\n",
      " 2   ra_error                   276559 non-null  float64\n",
      " 3   dec                        276559 non-null  float64\n",
      " 4   dec_error                  276559 non-null  float64\n",
      " 5   parallax                   242575 non-null  float64\n",
      " 6   parallax_error             242575 non-null  float64\n",
      " 7   pm                         242575 non-null  float64\n",
      " 8   pmra                       242575 non-null  float64\n",
      " 9   pmra_error                 242575 non-null  float64\n",
      " 10  pmdec                      242575 non-null  float64\n",
      " 11  pmdec_error                242575 non-null  float64\n",
      " 12  phot_g_mean_flux           276336 non-null  float64\n",
      " 13  phot_g_mean_flux_error     276336 non-null  float64\n",
      " 14  phot_g_mean_mag            276336 non-null  float64\n",
      " 15  phot_bp_mean_flux          272436 non-null  float64\n",
      " 16  phot_bp_mean_flux_error    272436 non-null  float64\n",
      " 17  phot_bp_mean_mag           272436 non-null  float64\n",
      " 18  phot_rp_mean_flux          273106 non-null  float64\n",
      " 19  phot_rp_mean_flux_error    273106 non-null  float64\n",
      " 20  phot_rp_mean_mag           273106 non-null  float64\n",
      " 21  dr2_radial_velocity        3736 non-null    float64\n",
      " 22  dr2_radial_velocity_error  3736 non-null    float64\n",
      "dtypes: float64(22), int64(1)\n",
      "memory usage: 48.5 MB\n"
     ]
    }
   ],
   "source": [
    "datafile.info()"
   ]
  },
  {
   "cell_type": "markdown",
   "metadata": {
    "id": "BEBatTp5jKnG"
   },
   "source": [
    "Handling the missing values"
   ]
  },
  {
   "cell_type": "code",
   "execution_count": 5,
   "metadata": {
    "colab": {
     "base_uri": "https://localhost:8080/",
     "height": 439
    },
    "execution": {
     "iopub.execute_input": "2021-08-10T07:56:13.002451Z",
     "iopub.status.busy": "2021-08-10T07:56:13.001631Z",
     "iopub.status.idle": "2021-08-10T07:56:14.524120Z",
     "shell.execute_reply": "2021-08-10T07:56:14.521483Z",
     "shell.execute_reply.started": "2021-08-10T07:56:13.002382Z"
    },
    "executionInfo": {
     "elapsed": 687,
     "status": "ok",
     "timestamp": 1627097136821,
     "user": {
      "displayName": "Salma Zahra",
      "photoUrl": "https://lh3.googleusercontent.com/a-/AOh14GiOhalU5s9Gc7ZjGeoJYHAxF0cKybWTvAso5BHsHw=s64",
      "userId": "08028390035877018947"
     },
     "user_tz": -420
    },
    "id": "INQfsbevjK2k",
    "outputId": "1bfeb214-bff7-41b4-eda7-5e1295331df0",
    "tags": []
   },
   "outputs": [
    {
     "data": {
      "text/html": [
       "<div>\n",
       "<style scoped>\n",
       "    .dataframe tbody tr th:only-of-type {\n",
       "        vertical-align: middle;\n",
       "    }\n",
       "\n",
       "    .dataframe tbody tr th {\n",
       "        vertical-align: top;\n",
       "    }\n",
       "\n",
       "    .dataframe thead th {\n",
       "        text-align: right;\n",
       "    }\n",
       "</style>\n",
       "<table border=\"1\" class=\"dataframe\">\n",
       "  <thead>\n",
       "    <tr style=\"text-align: right;\">\n",
       "      <th></th>\n",
       "      <th>index</th>\n",
       "      <th>source_id</th>\n",
       "      <th>ra</th>\n",
       "      <th>ra_error</th>\n",
       "      <th>dec</th>\n",
       "      <th>dec_error</th>\n",
       "      <th>parallax</th>\n",
       "      <th>parallax_error</th>\n",
       "      <th>pm</th>\n",
       "      <th>pmra</th>\n",
       "      <th>...</th>\n",
       "      <th>phot_g_mean_flux_error</th>\n",
       "      <th>phot_g_mean_mag</th>\n",
       "      <th>phot_bp_mean_flux</th>\n",
       "      <th>phot_bp_mean_flux_error</th>\n",
       "      <th>phot_bp_mean_mag</th>\n",
       "      <th>phot_rp_mean_flux</th>\n",
       "      <th>phot_rp_mean_flux_error</th>\n",
       "      <th>phot_rp_mean_mag</th>\n",
       "      <th>dr2_radial_velocity</th>\n",
       "      <th>dr2_radial_velocity_error</th>\n",
       "    </tr>\n",
       "  </thead>\n",
       "  <tbody>\n",
       "    <tr>\n",
       "      <th>0</th>\n",
       "      <td>0</td>\n",
       "      <td>305957767766999296</td>\n",
       "      <td>28.955921</td>\n",
       "      <td>0.122567</td>\n",
       "      <td>34.808910</td>\n",
       "      <td>0.114832</td>\n",
       "      <td>0.812759</td>\n",
       "      <td>0.143033</td>\n",
       "      <td>3.029361</td>\n",
       "      <td>-0.407360</td>\n",
       "      <td>...</td>\n",
       "      <td>2.129536</td>\n",
       "      <td>17.733475</td>\n",
       "      <td>639.728402</td>\n",
       "      <td>10.015772</td>\n",
       "      <td>18.323553</td>\n",
       "      <td>1237.352007</td>\n",
       "      <td>16.788546</td>\n",
       "      <td>17.016663</td>\n",
       "      <td>NaN</td>\n",
       "      <td>NaN</td>\n",
       "    </tr>\n",
       "    <tr>\n",
       "      <th>1</th>\n",
       "      <td>1</td>\n",
       "      <td>305958527976971648</td>\n",
       "      <td>28.947888</td>\n",
       "      <td>0.693226</td>\n",
       "      <td>34.812576</td>\n",
       "      <td>0.584481</td>\n",
       "      <td>0.450214</td>\n",
       "      <td>0.871408</td>\n",
       "      <td>5.680108</td>\n",
       "      <td>-1.943223</td>\n",
       "      <td>...</td>\n",
       "      <td>1.000874</td>\n",
       "      <td>20.189133</td>\n",
       "      <td>56.901979</td>\n",
       "      <td>8.032850</td>\n",
       "      <td>20.950724</td>\n",
       "      <td>145.828724</td>\n",
       "      <td>8.627033</td>\n",
       "      <td>19.338287</td>\n",
       "      <td>NaN</td>\n",
       "      <td>NaN</td>\n",
       "    </tr>\n",
       "    <tr>\n",
       "      <th>2</th>\n",
       "      <td>2</td>\n",
       "      <td>305958558040982272</td>\n",
       "      <td>28.930927</td>\n",
       "      <td>0.486134</td>\n",
       "      <td>34.811400</td>\n",
       "      <td>0.406819</td>\n",
       "      <td>0.023434</td>\n",
       "      <td>0.637204</td>\n",
       "      <td>14.041116</td>\n",
       "      <td>13.967538</td>\n",
       "      <td>...</td>\n",
       "      <td>1.075552</td>\n",
       "      <td>19.633541</td>\n",
       "      <td>80.585144</td>\n",
       "      <td>10.944976</td>\n",
       "      <td>20.572905</td>\n",
       "      <td>322.277926</td>\n",
       "      <td>7.958080</td>\n",
       "      <td>18.477320</td>\n",
       "      <td>NaN</td>\n",
       "      <td>NaN</td>\n",
       "    </tr>\n",
       "    <tr>\n",
       "      <th>3</th>\n",
       "      <td>3</td>\n",
       "      <td>305958661120198656</td>\n",
       "      <td>28.912807</td>\n",
       "      <td>1.088242</td>\n",
       "      <td>34.813976</td>\n",
       "      <td>0.814787</td>\n",
       "      <td>1.494199</td>\n",
       "      <td>1.460007</td>\n",
       "      <td>11.139710</td>\n",
       "      <td>10.672128</td>\n",
       "      <td>...</td>\n",
       "      <td>1.023774</td>\n",
       "      <td>20.533361</td>\n",
       "      <td>51.131139</td>\n",
       "      <td>9.649406</td>\n",
       "      <td>21.066828</td>\n",
       "      <td>111.643914</td>\n",
       "      <td>10.659004</td>\n",
       "      <td>19.628307</td>\n",
       "      <td>NaN</td>\n",
       "      <td>NaN</td>\n",
       "    </tr>\n",
       "    <tr>\n",
       "      <th>4</th>\n",
       "      <td>4</td>\n",
       "      <td>305958729839679488</td>\n",
       "      <td>28.893771</td>\n",
       "      <td>0.354425</td>\n",
       "      <td>34.835514</td>\n",
       "      <td>0.303480</td>\n",
       "      <td>-0.167096</td>\n",
       "      <td>0.452265</td>\n",
       "      <td>3.381150</td>\n",
       "      <td>-1.336787</td>\n",
       "      <td>...</td>\n",
       "      <td>1.384767</td>\n",
       "      <td>19.342285</td>\n",
       "      <td>150.154130</td>\n",
       "      <td>10.209387</td>\n",
       "      <td>19.897200</td>\n",
       "      <td>268.414468</td>\n",
       "      <td>10.885222</td>\n",
       "      <td>18.675880</td>\n",
       "      <td>NaN</td>\n",
       "      <td>NaN</td>\n",
       "    </tr>\n",
       "    <tr>\n",
       "      <th>...</th>\n",
       "      <td>...</td>\n",
       "      <td>...</td>\n",
       "      <td>...</td>\n",
       "      <td>...</td>\n",
       "      <td>...</td>\n",
       "      <td>...</td>\n",
       "      <td>...</td>\n",
       "      <td>...</td>\n",
       "      <td>...</td>\n",
       "      <td>...</td>\n",
       "      <td>...</td>\n",
       "      <td>...</td>\n",
       "      <td>...</td>\n",
       "      <td>...</td>\n",
       "      <td>...</td>\n",
       "      <td>...</td>\n",
       "      <td>...</td>\n",
       "      <td>...</td>\n",
       "      <td>...</td>\n",
       "      <td>...</td>\n",
       "      <td>...</td>\n",
       "    </tr>\n",
       "    <tr>\n",
       "      <th>242570</th>\n",
       "      <td>276554</td>\n",
       "      <td>331427958921697024</td>\n",
       "      <td>32.877847</td>\n",
       "      <td>0.080846</td>\n",
       "      <td>37.721232</td>\n",
       "      <td>0.071452</td>\n",
       "      <td>1.116671</td>\n",
       "      <td>0.090059</td>\n",
       "      <td>21.206818</td>\n",
       "      <td>19.396054</td>\n",
       "      <td>...</td>\n",
       "      <td>2.558350</td>\n",
       "      <td>17.099785</td>\n",
       "      <td>962.629635</td>\n",
       "      <td>15.980426</td>\n",
       "      <td>17.879894</td>\n",
       "      <td>2556.518268</td>\n",
       "      <td>11.597302</td>\n",
       "      <td>16.228773</td>\n",
       "      <td>NaN</td>\n",
       "      <td>NaN</td>\n",
       "    </tr>\n",
       "    <tr>\n",
       "      <th>242571</th>\n",
       "      <td>276555</td>\n",
       "      <td>331427993281453824</td>\n",
       "      <td>33.053468</td>\n",
       "      <td>0.638168</td>\n",
       "      <td>37.559205</td>\n",
       "      <td>0.516327</td>\n",
       "      <td>0.184598</td>\n",
       "      <td>0.678295</td>\n",
       "      <td>5.847719</td>\n",
       "      <td>-2.944841</td>\n",
       "      <td>...</td>\n",
       "      <td>1.121783</td>\n",
       "      <td>20.082909</td>\n",
       "      <td>72.341991</td>\n",
       "      <td>9.144726</td>\n",
       "      <td>20.690065</td>\n",
       "      <td>160.491536</td>\n",
       "      <td>7.582657</td>\n",
       "      <td>19.234264</td>\n",
       "      <td>NaN</td>\n",
       "      <td>NaN</td>\n",
       "    </tr>\n",
       "    <tr>\n",
       "      <th>242572</th>\n",
       "      <td>276556</td>\n",
       "      <td>331428023344656896</td>\n",
       "      <td>33.057624</td>\n",
       "      <td>0.414570</td>\n",
       "      <td>37.564927</td>\n",
       "      <td>0.351141</td>\n",
       "      <td>0.072244</td>\n",
       "      <td>0.450061</td>\n",
       "      <td>7.141548</td>\n",
       "      <td>6.645717</td>\n",
       "      <td>...</td>\n",
       "      <td>1.407290</td>\n",
       "      <td>19.515429</td>\n",
       "      <td>74.260492</td>\n",
       "      <td>7.736977</td>\n",
       "      <td>20.661648</td>\n",
       "      <td>337.081326</td>\n",
       "      <td>6.553957</td>\n",
       "      <td>18.428558</td>\n",
       "      <td>NaN</td>\n",
       "      <td>NaN</td>\n",
       "    </tr>\n",
       "    <tr>\n",
       "      <th>242573</th>\n",
       "      <td>276557</td>\n",
       "      <td>331428023344793856</td>\n",
       "      <td>33.060006</td>\n",
       "      <td>0.527450</td>\n",
       "      <td>37.563981</td>\n",
       "      <td>0.410857</td>\n",
       "      <td>0.213819</td>\n",
       "      <td>0.555141</td>\n",
       "      <td>12.235826</td>\n",
       "      <td>0.309287</td>\n",
       "      <td>...</td>\n",
       "      <td>1.336348</td>\n",
       "      <td>19.778870</td>\n",
       "      <td>51.557056</td>\n",
       "      <td>5.240727</td>\n",
       "      <td>21.057821</td>\n",
       "      <td>253.852948</td>\n",
       "      <td>5.944545</td>\n",
       "      <td>18.736440</td>\n",
       "      <td>NaN</td>\n",
       "      <td>NaN</td>\n",
       "    </tr>\n",
       "    <tr>\n",
       "      <th>242574</th>\n",
       "      <td>276558</td>\n",
       "      <td>331428027639595648</td>\n",
       "      <td>33.056592</td>\n",
       "      <td>1.553290</td>\n",
       "      <td>37.570329</td>\n",
       "      <td>1.330243</td>\n",
       "      <td>3.478456</td>\n",
       "      <td>1.759123</td>\n",
       "      <td>3.211642</td>\n",
       "      <td>-1.226840</td>\n",
       "      <td>...</td>\n",
       "      <td>1.413956</td>\n",
       "      <td>20.748352</td>\n",
       "      <td>40.493570</td>\n",
       "      <td>6.119378</td>\n",
       "      <td>21.320078</td>\n",
       "      <td>59.007402</td>\n",
       "      <td>7.218529</td>\n",
       "      <td>20.320630</td>\n",
       "      <td>NaN</td>\n",
       "      <td>NaN</td>\n",
       "    </tr>\n",
       "  </tbody>\n",
       "</table>\n",
       "<p>242575 rows × 24 columns</p>\n",
       "</div>"
      ],
      "text/plain": [
       "         index           source_id         ra  ra_error        dec  dec_error  \\\n",
       "0            0  305957767766999296  28.955921  0.122567  34.808910   0.114832   \n",
       "1            1  305958527976971648  28.947888  0.693226  34.812576   0.584481   \n",
       "2            2  305958558040982272  28.930927  0.486134  34.811400   0.406819   \n",
       "3            3  305958661120198656  28.912807  1.088242  34.813976   0.814787   \n",
       "4            4  305958729839679488  28.893771  0.354425  34.835514   0.303480   \n",
       "...        ...                 ...        ...       ...        ...        ...   \n",
       "242570  276554  331427958921697024  32.877847  0.080846  37.721232   0.071452   \n",
       "242571  276555  331427993281453824  33.053468  0.638168  37.559205   0.516327   \n",
       "242572  276556  331428023344656896  33.057624  0.414570  37.564927   0.351141   \n",
       "242573  276557  331428023344793856  33.060006  0.527450  37.563981   0.410857   \n",
       "242574  276558  331428027639595648  33.056592  1.553290  37.570329   1.330243   \n",
       "\n",
       "        parallax  parallax_error         pm       pmra  ...  \\\n",
       "0       0.812759        0.143033   3.029361  -0.407360  ...   \n",
       "1       0.450214        0.871408   5.680108  -1.943223  ...   \n",
       "2       0.023434        0.637204  14.041116  13.967538  ...   \n",
       "3       1.494199        1.460007  11.139710  10.672128  ...   \n",
       "4      -0.167096        0.452265   3.381150  -1.336787  ...   \n",
       "...          ...             ...        ...        ...  ...   \n",
       "242570  1.116671        0.090059  21.206818  19.396054  ...   \n",
       "242571  0.184598        0.678295   5.847719  -2.944841  ...   \n",
       "242572  0.072244        0.450061   7.141548   6.645717  ...   \n",
       "242573  0.213819        0.555141  12.235826   0.309287  ...   \n",
       "242574  3.478456        1.759123   3.211642  -1.226840  ...   \n",
       "\n",
       "        phot_g_mean_flux_error  phot_g_mean_mag  phot_bp_mean_flux  \\\n",
       "0                     2.129536        17.733475         639.728402   \n",
       "1                     1.000874        20.189133          56.901979   \n",
       "2                     1.075552        19.633541          80.585144   \n",
       "3                     1.023774        20.533361          51.131139   \n",
       "4                     1.384767        19.342285         150.154130   \n",
       "...                        ...              ...                ...   \n",
       "242570                2.558350        17.099785         962.629635   \n",
       "242571                1.121783        20.082909          72.341991   \n",
       "242572                1.407290        19.515429          74.260492   \n",
       "242573                1.336348        19.778870          51.557056   \n",
       "242574                1.413956        20.748352          40.493570   \n",
       "\n",
       "        phot_bp_mean_flux_error  phot_bp_mean_mag  phot_rp_mean_flux  \\\n",
       "0                     10.015772         18.323553        1237.352007   \n",
       "1                      8.032850         20.950724         145.828724   \n",
       "2                     10.944976         20.572905         322.277926   \n",
       "3                      9.649406         21.066828         111.643914   \n",
       "4                     10.209387         19.897200         268.414468   \n",
       "...                         ...               ...                ...   \n",
       "242570                15.980426         17.879894        2556.518268   \n",
       "242571                 9.144726         20.690065         160.491536   \n",
       "242572                 7.736977         20.661648         337.081326   \n",
       "242573                 5.240727         21.057821         253.852948   \n",
       "242574                 6.119378         21.320078          59.007402   \n",
       "\n",
       "        phot_rp_mean_flux_error  phot_rp_mean_mag  dr2_radial_velocity  \\\n",
       "0                     16.788546         17.016663                  NaN   \n",
       "1                      8.627033         19.338287                  NaN   \n",
       "2                      7.958080         18.477320                  NaN   \n",
       "3                     10.659004         19.628307                  NaN   \n",
       "4                     10.885222         18.675880                  NaN   \n",
       "...                         ...               ...                  ...   \n",
       "242570                11.597302         16.228773                  NaN   \n",
       "242571                 7.582657         19.234264                  NaN   \n",
       "242572                 6.553957         18.428558                  NaN   \n",
       "242573                 5.944545         18.736440                  NaN   \n",
       "242574                 7.218529         20.320630                  NaN   \n",
       "\n",
       "        dr2_radial_velocity_error  \n",
       "0                             NaN  \n",
       "1                             NaN  \n",
       "2                             NaN  \n",
       "3                             NaN  \n",
       "4                             NaN  \n",
       "...                           ...  \n",
       "242570                        NaN  \n",
       "242571                        NaN  \n",
       "242572                        NaN  \n",
       "242573                        NaN  \n",
       "242574                        NaN  \n",
       "\n",
       "[242575 rows x 24 columns]"
      ]
     },
     "execution_count": 5,
     "metadata": {},
     "output_type": "execute_result"
    }
   ],
   "source": [
    "#datafile.fillna(method ='ffill', inplace = True)\n",
    "datafile.dropna(subset=['pmra', 'pmdec', 'parallax']).reset_index()"
   ]
  },
  {
   "cell_type": "markdown",
   "metadata": {
    "id": "WsW5NbmHRpDI"
   },
   "source": [
    "To eliminate sources with high uncertainty while still retaining a fraction of sources down to G ∼ 21 mag, we need to select the errors in their G-mag must be less than 0.005. Calculate error of G ($|\\sigma_G|$), G$_{BP}$ ($|\\sigma_{BP}|$), and G$_{RP}$ ($|\\sigma_{RP}|$).\n",
    "\n",
    "\\begin{eqnarray}\n",
    "|\\sigma_G| = -\\frac{2.5}{ln \\ 10} \\frac{\\sigma_{F_G}}{F_G} \\\\\n",
    "|\\sigma_{BP}| = -\\frac{2.5}{ln \\ 10} \\frac{\\sigma_{F_{BP}}}{F_{BP}} \\\\\n",
    "|\\sigma_{RP}| = -\\frac{2.5}{ln \\ 10} \\frac{\\sigma_{F_{RP}}}{F_{RP}}\n",
    "\\end{eqnarray}"
   ]
  },
  {
   "cell_type": "code",
   "execution_count": 6,
   "metadata": {
    "execution": {
     "iopub.execute_input": "2021-08-10T07:56:37.475719Z",
     "iopub.status.busy": "2021-08-10T07:56:37.474979Z",
     "iopub.status.idle": "2021-08-10T07:56:37.515067Z",
     "shell.execute_reply": "2021-08-10T07:56:37.512586Z",
     "shell.execute_reply.started": "2021-08-10T07:56:37.475652Z"
    },
    "executionInfo": {
     "elapsed": 10,
     "status": "ok",
     "timestamp": 1627097136824,
     "user": {
      "displayName": "Salma Zahra",
      "photoUrl": "https://lh3.googleusercontent.com/a-/AOh14GiOhalU5s9Gc7ZjGeoJYHAxF0cKybWTvAso5BHsHw=s64",
      "userId": "08028390035877018947"
     },
     "user_tz": -420
    },
    "id": "mb0C05UnRpDI",
    "tags": []
   },
   "outputs": [],
   "source": [
    "datafile['e_Gmag'] = abs(-2.5*datafile['phot_g_mean_flux_error']/math.log(10)/datafile['phot_g_mean_flux'])\n",
    "datafile['e_BPmag'] = abs(-2.5*datafile['phot_bp_mean_flux_error']/math.log(10)/datafile['phot_bp_mean_flux'])\n",
    "datafile['e_RPmag'] = abs(-2.5*datafile['phot_rp_mean_flux_error']/math.log(10)/datafile['phot_rp_mean_flux'])"
   ]
  },
  {
   "cell_type": "markdown",
   "metadata": {
    "id": "J9SdFCmuj4oV"
   },
   "source": [
    "To make things easier, add the bp_rp and parallax_over_error features"
   ]
  },
  {
   "cell_type": "code",
   "execution_count": 7,
   "metadata": {
    "execution": {
     "iopub.execute_input": "2021-08-10T07:56:44.137629Z",
     "iopub.status.busy": "2021-08-10T07:56:44.136891Z",
     "iopub.status.idle": "2021-08-10T07:56:44.161840Z",
     "shell.execute_reply": "2021-08-10T07:56:44.159646Z",
     "shell.execute_reply.started": "2021-08-10T07:56:44.137563Z"
    },
    "executionInfo": {
     "elapsed": 2,
     "status": "ok",
     "timestamp": 1627097137272,
     "user": {
      "displayName": "Salma Zahra",
      "photoUrl": "https://lh3.googleusercontent.com/a-/AOh14GiOhalU5s9Gc7ZjGeoJYHAxF0cKybWTvAso5BHsHw=s64",
      "userId": "08028390035877018947"
     },
     "user_tz": -420
    },
    "id": "UMM1tLSHj5hX",
    "tags": []
   },
   "outputs": [],
   "source": [
    "datafile['bp_rp'] = datafile['phot_bp_mean_mag'] - datafile['phot_rp_mean_mag']\n",
    "datafile['parallax_over_error'] = datafile['parallax'] / datafile['parallax_error']"
   ]
  },
  {
   "cell_type": "markdown",
   "metadata": {
    "id": "a2PcDWf_RpDK"
   },
   "source": [
    "Select data with positive parallax value ($\\omega>0$), parallax_over_error ($\\omega/\\sigma_{\\omega}$) $>5$, and error of G magnitude ($\\sigma_G$) $< 0.005$.\n"
   ]
  },
  {
   "cell_type": "code",
   "execution_count": 8,
   "metadata": {
    "execution": {
     "iopub.execute_input": "2021-08-10T07:56:46.451171Z",
     "iopub.status.busy": "2021-08-10T07:56:46.450015Z",
     "iopub.status.idle": "2021-08-10T07:56:47.785823Z",
     "shell.execute_reply": "2021-08-10T07:56:47.783734Z",
     "shell.execute_reply.started": "2021-08-10T07:56:46.451071Z"
    },
    "executionInfo": {
     "elapsed": 3,
     "status": "ok",
     "timestamp": 1627097137780,
     "user": {
      "displayName": "Salma Zahra",
      "photoUrl": "https://lh3.googleusercontent.com/a-/AOh14GiOhalU5s9Gc7ZjGeoJYHAxF0cKybWTvAso5BHsHw=s64",
      "userId": "08028390035877018947"
     },
     "user_tz": -420
    },
    "id": "PzM_blN7RpDL",
    "tags": []
   },
   "outputs": [],
   "source": [
    "data = datafile[(datafile['parallax'] > 0.) & (datafile['e_Gmag'] < 0.005)].reset_index(drop=True)"
   ]
  },
  {
   "cell_type": "markdown",
   "metadata": {
    "id": "mR-xm4X1RpDL"
   },
   "source": [
    "Select some parameters to be calculated as all source"
   ]
  },
  {
   "cell_type": "code",
   "execution_count": 9,
   "metadata": {
    "execution": {
     "iopub.execute_input": "2021-08-10T07:56:50.884292Z",
     "iopub.status.busy": "2021-08-10T07:56:50.883541Z",
     "iopub.status.idle": "2021-08-10T07:56:51.032312Z",
     "shell.execute_reply": "2021-08-10T07:56:51.030224Z",
     "shell.execute_reply.started": "2021-08-10T07:56:50.884223Z"
    },
    "tags": []
   },
   "outputs": [
    {
     "data": {
      "text/html": [
       "<div>\n",
       "<style scoped>\n",
       "    .dataframe tbody tr th:only-of-type {\n",
       "        vertical-align: middle;\n",
       "    }\n",
       "\n",
       "    .dataframe tbody tr th {\n",
       "        vertical-align: top;\n",
       "    }\n",
       "\n",
       "    .dataframe thead th {\n",
       "        text-align: right;\n",
       "    }\n",
       "</style>\n",
       "<table border=\"1\" class=\"dataframe\">\n",
       "  <thead>\n",
       "    <tr style=\"text-align: right;\">\n",
       "      <th></th>\n",
       "      <th>source_id</th>\n",
       "      <th>ra</th>\n",
       "      <th>ra_error</th>\n",
       "      <th>dec</th>\n",
       "      <th>dec_error</th>\n",
       "      <th>parallax</th>\n",
       "      <th>parallax_error</th>\n",
       "      <th>pm</th>\n",
       "      <th>pmra</th>\n",
       "      <th>pmra_error</th>\n",
       "      <th>...</th>\n",
       "      <th>phot_rp_mean_flux</th>\n",
       "      <th>phot_rp_mean_flux_error</th>\n",
       "      <th>phot_rp_mean_mag</th>\n",
       "      <th>dr2_radial_velocity</th>\n",
       "      <th>dr2_radial_velocity_error</th>\n",
       "      <th>e_Gmag</th>\n",
       "      <th>e_BPmag</th>\n",
       "      <th>e_RPmag</th>\n",
       "      <th>bp_rp</th>\n",
       "      <th>parallax_over_error</th>\n",
       "    </tr>\n",
       "  </thead>\n",
       "  <tbody>\n",
       "    <tr>\n",
       "      <th>0</th>\n",
       "      <td>305957767766999296</td>\n",
       "      <td>28.955921</td>\n",
       "      <td>0.122567</td>\n",
       "      <td>34.808910</td>\n",
       "      <td>0.114832</td>\n",
       "      <td>0.812759</td>\n",
       "      <td>0.143033</td>\n",
       "      <td>3.029361</td>\n",
       "      <td>-0.407360</td>\n",
       "      <td>0.160723</td>\n",
       "      <td>...</td>\n",
       "      <td>1237.352007</td>\n",
       "      <td>16.788546</td>\n",
       "      <td>17.016663</td>\n",
       "      <td>NaN</td>\n",
       "      <td>NaN</td>\n",
       "      <td>0.001522</td>\n",
       "      <td>0.016999</td>\n",
       "      <td>0.014731</td>\n",
       "      <td>1.306890</td>\n",
       "      <td>5.682303</td>\n",
       "    </tr>\n",
       "    <tr>\n",
       "      <th>1</th>\n",
       "      <td>305958558040982272</td>\n",
       "      <td>28.930927</td>\n",
       "      <td>0.486134</td>\n",
       "      <td>34.811400</td>\n",
       "      <td>0.406819</td>\n",
       "      <td>0.023434</td>\n",
       "      <td>0.637204</td>\n",
       "      <td>14.041116</td>\n",
       "      <td>13.967538</td>\n",
       "      <td>0.645873</td>\n",
       "      <td>...</td>\n",
       "      <td>322.277926</td>\n",
       "      <td>7.958080</td>\n",
       "      <td>18.477320</td>\n",
       "      <td>NaN</td>\n",
       "      <td>NaN</td>\n",
       "      <td>0.004424</td>\n",
       "      <td>0.147463</td>\n",
       "      <td>0.026810</td>\n",
       "      <td>2.095585</td>\n",
       "      <td>0.036776</td>\n",
       "    </tr>\n",
       "    <tr>\n",
       "      <th>2</th>\n",
       "      <td>305958768495140096</td>\n",
       "      <td>28.916471</td>\n",
       "      <td>0.052384</td>\n",
       "      <td>34.821446</td>\n",
       "      <td>0.047474</td>\n",
       "      <td>0.374306</td>\n",
       "      <td>0.061127</td>\n",
       "      <td>5.447051</td>\n",
       "      <td>-5.389088</td>\n",
       "      <td>0.068402</td>\n",
       "      <td>...</td>\n",
       "      <td>4281.832716</td>\n",
       "      <td>13.452199</td>\n",
       "      <td>15.668821</td>\n",
       "      <td>NaN</td>\n",
       "      <td>NaN</td>\n",
       "      <td>0.000694</td>\n",
       "      <td>0.003798</td>\n",
       "      <td>0.003411</td>\n",
       "      <td>0.841805</td>\n",
       "      <td>6.123409</td>\n",
       "    </tr>\n",
       "    <tr>\n",
       "      <th>3</th>\n",
       "      <td>305958832918894848</td>\n",
       "      <td>28.909332</td>\n",
       "      <td>0.069762</td>\n",
       "      <td>34.836200</td>\n",
       "      <td>0.066513</td>\n",
       "      <td>0.637443</td>\n",
       "      <td>0.084065</td>\n",
       "      <td>2.388712</td>\n",
       "      <td>2.246712</td>\n",
       "      <td>0.090168</td>\n",
       "      <td>...</td>\n",
       "      <td>2555.658388</td>\n",
       "      <td>14.373932</td>\n",
       "      <td>16.229140</td>\n",
       "      <td>NaN</td>\n",
       "      <td>NaN</td>\n",
       "      <td>0.001162</td>\n",
       "      <td>0.017207</td>\n",
       "      <td>0.006107</td>\n",
       "      <td>1.054754</td>\n",
       "      <td>7.582728</td>\n",
       "    </tr>\n",
       "    <tr>\n",
       "      <th>4</th>\n",
       "      <td>305958832918895744</td>\n",
       "      <td>28.902070</td>\n",
       "      <td>0.093140</td>\n",
       "      <td>34.841362</td>\n",
       "      <td>0.084261</td>\n",
       "      <td>0.590544</td>\n",
       "      <td>0.114065</td>\n",
       "      <td>6.076763</td>\n",
       "      <td>-1.856676</td>\n",
       "      <td>0.124143</td>\n",
       "      <td>...</td>\n",
       "      <td>1588.400044</td>\n",
       "      <td>16.957111</td>\n",
       "      <td>16.745495</td>\n",
       "      <td>NaN</td>\n",
       "      <td>NaN</td>\n",
       "      <td>0.001385</td>\n",
       "      <td>0.018156</td>\n",
       "      <td>0.011591</td>\n",
       "      <td>1.174249</td>\n",
       "      <td>5.177242</td>\n",
       "    </tr>\n",
       "    <tr>\n",
       "      <th>...</th>\n",
       "      <td>...</td>\n",
       "      <td>...</td>\n",
       "      <td>...</td>\n",
       "      <td>...</td>\n",
       "      <td>...</td>\n",
       "      <td>...</td>\n",
       "      <td>...</td>\n",
       "      <td>...</td>\n",
       "      <td>...</td>\n",
       "      <td>...</td>\n",
       "      <td>...</td>\n",
       "      <td>...</td>\n",
       "      <td>...</td>\n",
       "      <td>...</td>\n",
       "      <td>...</td>\n",
       "      <td>...</td>\n",
       "      <td>...</td>\n",
       "      <td>...</td>\n",
       "      <td>...</td>\n",
       "      <td>...</td>\n",
       "      <td>...</td>\n",
       "    </tr>\n",
       "    <tr>\n",
       "      <th>152445</th>\n",
       "      <td>331427851546027648</td>\n",
       "      <td>32.873136</td>\n",
       "      <td>0.283683</td>\n",
       "      <td>37.704063</td>\n",
       "      <td>0.256970</td>\n",
       "      <td>0.934149</td>\n",
       "      <td>0.315591</td>\n",
       "      <td>2.714790</td>\n",
       "      <td>1.502596</td>\n",
       "      <td>0.386984</td>\n",
       "      <td>...</td>\n",
       "      <td>413.533873</td>\n",
       "      <td>11.157066</td>\n",
       "      <td>18.206617</td>\n",
       "      <td>NaN</td>\n",
       "      <td>NaN</td>\n",
       "      <td>0.003308</td>\n",
       "      <td>0.043411</td>\n",
       "      <td>0.029293</td>\n",
       "      <td>1.304678</td>\n",
       "      <td>2.960000</td>\n",
       "    </tr>\n",
       "    <tr>\n",
       "      <th>152446</th>\n",
       "      <td>331427890202221568</td>\n",
       "      <td>32.885669</td>\n",
       "      <td>0.015136</td>\n",
       "      <td>37.710683</td>\n",
       "      <td>0.014720</td>\n",
       "      <td>1.419826</td>\n",
       "      <td>0.017807</td>\n",
       "      <td>19.685700</td>\n",
       "      <td>13.215108</td>\n",
       "      <td>0.018199</td>\n",
       "      <td>...</td>\n",
       "      <td>96931.720705</td>\n",
       "      <td>32.163406</td>\n",
       "      <td>12.281731</td>\n",
       "      <td>37.69993</td>\n",
       "      <td>0.775677</td>\n",
       "      <td>0.000254</td>\n",
       "      <td>0.000581</td>\n",
       "      <td>0.000360</td>\n",
       "      <td>0.936510</td>\n",
       "      <td>79.732736</td>\n",
       "    </tr>\n",
       "    <tr>\n",
       "      <th>152447</th>\n",
       "      <td>331427890202221696</td>\n",
       "      <td>32.881653</td>\n",
       "      <td>0.054124</td>\n",
       "      <td>37.711056</td>\n",
       "      <td>0.049198</td>\n",
       "      <td>0.913353</td>\n",
       "      <td>0.060913</td>\n",
       "      <td>7.219220</td>\n",
       "      <td>6.812095</td>\n",
       "      <td>0.063476</td>\n",
       "      <td>...</td>\n",
       "      <td>3941.822148</td>\n",
       "      <td>12.063188</td>\n",
       "      <td>15.758653</td>\n",
       "      <td>NaN</td>\n",
       "      <td>NaN</td>\n",
       "      <td>0.000789</td>\n",
       "      <td>0.003474</td>\n",
       "      <td>0.003323</td>\n",
       "      <td>1.124197</td>\n",
       "      <td>14.994409</td>\n",
       "    </tr>\n",
       "    <tr>\n",
       "      <th>152448</th>\n",
       "      <td>331427958921696384</td>\n",
       "      <td>32.870902</td>\n",
       "      <td>0.205972</td>\n",
       "      <td>37.723729</td>\n",
       "      <td>0.166157</td>\n",
       "      <td>0.575480</td>\n",
       "      <td>0.216943</td>\n",
       "      <td>2.824340</td>\n",
       "      <td>1.881419</td>\n",
       "      <td>0.236651</td>\n",
       "      <td>...</td>\n",
       "      <td>534.899193</td>\n",
       "      <td>6.071194</td>\n",
       "      <td>17.927216</td>\n",
       "      <td>NaN</td>\n",
       "      <td>NaN</td>\n",
       "      <td>0.002459</td>\n",
       "      <td>0.024813</td>\n",
       "      <td>0.012323</td>\n",
       "      <td>1.256042</td>\n",
       "      <td>2.652678</td>\n",
       "    </tr>\n",
       "    <tr>\n",
       "      <th>152449</th>\n",
       "      <td>331427958921697024</td>\n",
       "      <td>32.877847</td>\n",
       "      <td>0.080846</td>\n",
       "      <td>37.721232</td>\n",
       "      <td>0.071452</td>\n",
       "      <td>1.116671</td>\n",
       "      <td>0.090059</td>\n",
       "      <td>21.206818</td>\n",
       "      <td>19.396054</td>\n",
       "      <td>0.093074</td>\n",
       "      <td>...</td>\n",
       "      <td>2556.518268</td>\n",
       "      <td>11.597302</td>\n",
       "      <td>16.228773</td>\n",
       "      <td>NaN</td>\n",
       "      <td>NaN</td>\n",
       "      <td>0.001020</td>\n",
       "      <td>0.018024</td>\n",
       "      <td>0.004925</td>\n",
       "      <td>1.651121</td>\n",
       "      <td>12.399312</td>\n",
       "    </tr>\n",
       "  </tbody>\n",
       "</table>\n",
       "<p>152450 rows × 28 columns</p>\n",
       "</div>"
      ],
      "text/plain": [
       "                 source_id         ra  ra_error        dec  dec_error  \\\n",
       "0       305957767766999296  28.955921  0.122567  34.808910   0.114832   \n",
       "1       305958558040982272  28.930927  0.486134  34.811400   0.406819   \n",
       "2       305958768495140096  28.916471  0.052384  34.821446   0.047474   \n",
       "3       305958832918894848  28.909332  0.069762  34.836200   0.066513   \n",
       "4       305958832918895744  28.902070  0.093140  34.841362   0.084261   \n",
       "...                    ...        ...       ...        ...        ...   \n",
       "152445  331427851546027648  32.873136  0.283683  37.704063   0.256970   \n",
       "152446  331427890202221568  32.885669  0.015136  37.710683   0.014720   \n",
       "152447  331427890202221696  32.881653  0.054124  37.711056   0.049198   \n",
       "152448  331427958921696384  32.870902  0.205972  37.723729   0.166157   \n",
       "152449  331427958921697024  32.877847  0.080846  37.721232   0.071452   \n",
       "\n",
       "        parallax  parallax_error         pm       pmra  pmra_error  ...  \\\n",
       "0       0.812759        0.143033   3.029361  -0.407360    0.160723  ...   \n",
       "1       0.023434        0.637204  14.041116  13.967538    0.645873  ...   \n",
       "2       0.374306        0.061127   5.447051  -5.389088    0.068402  ...   \n",
       "3       0.637443        0.084065   2.388712   2.246712    0.090168  ...   \n",
       "4       0.590544        0.114065   6.076763  -1.856676    0.124143  ...   \n",
       "...          ...             ...        ...        ...         ...  ...   \n",
       "152445  0.934149        0.315591   2.714790   1.502596    0.386984  ...   \n",
       "152446  1.419826        0.017807  19.685700  13.215108    0.018199  ...   \n",
       "152447  0.913353        0.060913   7.219220   6.812095    0.063476  ...   \n",
       "152448  0.575480        0.216943   2.824340   1.881419    0.236651  ...   \n",
       "152449  1.116671        0.090059  21.206818  19.396054    0.093074  ...   \n",
       "\n",
       "        phot_rp_mean_flux  phot_rp_mean_flux_error  phot_rp_mean_mag  \\\n",
       "0             1237.352007                16.788546         17.016663   \n",
       "1              322.277926                 7.958080         18.477320   \n",
       "2             4281.832716                13.452199         15.668821   \n",
       "3             2555.658388                14.373932         16.229140   \n",
       "4             1588.400044                16.957111         16.745495   \n",
       "...                   ...                      ...               ...   \n",
       "152445         413.533873                11.157066         18.206617   \n",
       "152446       96931.720705                32.163406         12.281731   \n",
       "152447        3941.822148                12.063188         15.758653   \n",
       "152448         534.899193                 6.071194         17.927216   \n",
       "152449        2556.518268                11.597302         16.228773   \n",
       "\n",
       "        dr2_radial_velocity  dr2_radial_velocity_error    e_Gmag   e_BPmag  \\\n",
       "0                       NaN                        NaN  0.001522  0.016999   \n",
       "1                       NaN                        NaN  0.004424  0.147463   \n",
       "2                       NaN                        NaN  0.000694  0.003798   \n",
       "3                       NaN                        NaN  0.001162  0.017207   \n",
       "4                       NaN                        NaN  0.001385  0.018156   \n",
       "...                     ...                        ...       ...       ...   \n",
       "152445                  NaN                        NaN  0.003308  0.043411   \n",
       "152446             37.69993                   0.775677  0.000254  0.000581   \n",
       "152447                  NaN                        NaN  0.000789  0.003474   \n",
       "152448                  NaN                        NaN  0.002459  0.024813   \n",
       "152449                  NaN                        NaN  0.001020  0.018024   \n",
       "\n",
       "         e_RPmag     bp_rp  parallax_over_error  \n",
       "0       0.014731  1.306890             5.682303  \n",
       "1       0.026810  2.095585             0.036776  \n",
       "2       0.003411  0.841805             6.123409  \n",
       "3       0.006107  1.054754             7.582728  \n",
       "4       0.011591  1.174249             5.177242  \n",
       "...          ...       ...                  ...  \n",
       "152445  0.029293  1.304678             2.960000  \n",
       "152446  0.000360  0.936510            79.732736  \n",
       "152447  0.003323  1.124197            14.994409  \n",
       "152448  0.012323  1.256042             2.652678  \n",
       "152449  0.004925  1.651121            12.399312  \n",
       "\n",
       "[152450 rows x 28 columns]"
      ]
     },
     "execution_count": 9,
     "metadata": {},
     "output_type": "execute_result"
    }
   ],
   "source": [
    "data"
   ]
  },
  {
   "cell_type": "code",
   "execution_count": 10,
   "metadata": {
    "execution": {
     "iopub.execute_input": "2021-08-10T07:57:35.368962Z",
     "iopub.status.busy": "2021-08-10T07:57:35.368200Z",
     "iopub.status.idle": "2021-08-10T07:57:35.386366Z",
     "shell.execute_reply": "2021-08-10T07:57:35.384243Z",
     "shell.execute_reply.started": "2021-08-10T07:57:35.368892Z"
    },
    "executionInfo": {
     "elapsed": 2,
     "status": "ok",
     "timestamp": 1627097138168,
     "user": {
      "displayName": "Salma Zahra",
      "photoUrl": "https://lh3.googleusercontent.com/a-/AOh14GiOhalU5s9Gc7ZjGeoJYHAxF0cKybWTvAso5BHsHw=s64",
      "userId": "08028390035877018947"
     },
     "user_tz": -420
    },
    "id": "2c419kcPRpDM",
    "tags": []
   },
   "outputs": [],
   "source": [
    "allsource = data[[\n",
    "    'ra', \n",
    "    'ra_error', \n",
    "    'dec', \n",
    "    'dec_error', \n",
    "    'parallax',\n",
    "    'parallax_error', \n",
    "    'pmra', \n",
    "    'pmra_error', \n",
    "    'pmdec',\n",
    "    'pmdec_error', \n",
    "    'phot_g_mean_mag',\n",
    "    'bp_rp'\n",
    "]]"
   ]
  },
  {
   "cell_type": "code",
   "execution_count": 11,
   "metadata": {
    "colab": {
     "base_uri": "https://localhost:8080/",
     "height": 224
    },
    "execution": {
     "iopub.execute_input": "2021-08-10T07:57:37.794737Z",
     "iopub.status.busy": "2021-08-10T07:57:37.792718Z",
     "iopub.status.idle": "2021-08-10T07:57:37.839608Z",
     "shell.execute_reply": "2021-08-10T07:57:37.837527Z",
     "shell.execute_reply.started": "2021-08-10T07:57:37.794655Z"
    },
    "executionInfo": {
     "elapsed": 4,
     "status": "ok",
     "timestamp": 1627097138549,
     "user": {
      "displayName": "Salma Zahra",
      "photoUrl": "https://lh3.googleusercontent.com/a-/AOh14GiOhalU5s9Gc7ZjGeoJYHAxF0cKybWTvAso5BHsHw=s64",
      "userId": "08028390035877018947"
     },
     "user_tz": -420
    },
    "id": "FJMP4FBuw2bE",
    "outputId": "2b050194-1884-4fad-be17-49f1292fbb40",
    "tags": []
   },
   "outputs": [
    {
     "data": {
      "text/html": [
       "<div>\n",
       "<style scoped>\n",
       "    .dataframe tbody tr th:only-of-type {\n",
       "        vertical-align: middle;\n",
       "    }\n",
       "\n",
       "    .dataframe tbody tr th {\n",
       "        vertical-align: top;\n",
       "    }\n",
       "\n",
       "    .dataframe thead th {\n",
       "        text-align: right;\n",
       "    }\n",
       "</style>\n",
       "<table border=\"1\" class=\"dataframe\">\n",
       "  <thead>\n",
       "    <tr style=\"text-align: right;\">\n",
       "      <th></th>\n",
       "      <th>ra</th>\n",
       "      <th>ra_error</th>\n",
       "      <th>dec</th>\n",
       "      <th>dec_error</th>\n",
       "      <th>parallax</th>\n",
       "      <th>parallax_error</th>\n",
       "      <th>pmra</th>\n",
       "      <th>pmra_error</th>\n",
       "      <th>pmdec</th>\n",
       "      <th>pmdec_error</th>\n",
       "      <th>phot_g_mean_mag</th>\n",
       "      <th>bp_rp</th>\n",
       "    </tr>\n",
       "  </thead>\n",
       "  <tbody>\n",
       "    <tr>\n",
       "      <th>0</th>\n",
       "      <td>28.955921</td>\n",
       "      <td>0.122567</td>\n",
       "      <td>34.808910</td>\n",
       "      <td>0.114832</td>\n",
       "      <td>0.812759</td>\n",
       "      <td>0.143033</td>\n",
       "      <td>-0.407360</td>\n",
       "      <td>0.160723</td>\n",
       "      <td>-3.001847</td>\n",
       "      <td>0.153433</td>\n",
       "      <td>17.733475</td>\n",
       "      <td>1.306890</td>\n",
       "    </tr>\n",
       "    <tr>\n",
       "      <th>1</th>\n",
       "      <td>28.930927</td>\n",
       "      <td>0.486134</td>\n",
       "      <td>34.811400</td>\n",
       "      <td>0.406819</td>\n",
       "      <td>0.023434</td>\n",
       "      <td>0.637204</td>\n",
       "      <td>13.967538</td>\n",
       "      <td>0.645873</td>\n",
       "      <td>-1.435553</td>\n",
       "      <td>0.599406</td>\n",
       "      <td>19.633541</td>\n",
       "      <td>2.095585</td>\n",
       "    </tr>\n",
       "    <tr>\n",
       "      <th>2</th>\n",
       "      <td>28.916471</td>\n",
       "      <td>0.052384</td>\n",
       "      <td>34.821446</td>\n",
       "      <td>0.047474</td>\n",
       "      <td>0.374306</td>\n",
       "      <td>0.061127</td>\n",
       "      <td>-5.389088</td>\n",
       "      <td>0.068402</td>\n",
       "      <td>-0.792524</td>\n",
       "      <td>0.064079</td>\n",
       "      <td>16.174849</td>\n",
       "      <td>0.841805</td>\n",
       "    </tr>\n",
       "    <tr>\n",
       "      <th>3</th>\n",
       "      <td>28.909332</td>\n",
       "      <td>0.069762</td>\n",
       "      <td>34.836200</td>\n",
       "      <td>0.066513</td>\n",
       "      <td>0.637443</td>\n",
       "      <td>0.084065</td>\n",
       "      <td>2.246712</td>\n",
       "      <td>0.090168</td>\n",
       "      <td>0.811313</td>\n",
       "      <td>0.090482</td>\n",
       "      <td>16.844282</td>\n",
       "      <td>1.054754</td>\n",
       "    </tr>\n",
       "    <tr>\n",
       "      <th>4</th>\n",
       "      <td>28.902070</td>\n",
       "      <td>0.093140</td>\n",
       "      <td>34.841362</td>\n",
       "      <td>0.084261</td>\n",
       "      <td>0.590544</td>\n",
       "      <td>0.114065</td>\n",
       "      <td>-1.856676</td>\n",
       "      <td>0.124143</td>\n",
       "      <td>-5.786173</td>\n",
       "      <td>0.119260</td>\n",
       "      <td>17.390295</td>\n",
       "      <td>1.174249</td>\n",
       "    </tr>\n",
       "  </tbody>\n",
       "</table>\n",
       "</div>"
      ],
      "text/plain": [
       "          ra  ra_error        dec  dec_error  parallax  parallax_error  \\\n",
       "0  28.955921  0.122567  34.808910   0.114832  0.812759        0.143033   \n",
       "1  28.930927  0.486134  34.811400   0.406819  0.023434        0.637204   \n",
       "2  28.916471  0.052384  34.821446   0.047474  0.374306        0.061127   \n",
       "3  28.909332  0.069762  34.836200   0.066513  0.637443        0.084065   \n",
       "4  28.902070  0.093140  34.841362   0.084261  0.590544        0.114065   \n",
       "\n",
       "        pmra  pmra_error     pmdec  pmdec_error  phot_g_mean_mag     bp_rp  \n",
       "0  -0.407360    0.160723 -3.001847     0.153433        17.733475  1.306890  \n",
       "1  13.967538    0.645873 -1.435553     0.599406        19.633541  2.095585  \n",
       "2  -5.389088    0.068402 -0.792524     0.064079        16.174849  0.841805  \n",
       "3   2.246712    0.090168  0.811313     0.090482        16.844282  1.054754  \n",
       "4  -1.856676    0.124143 -5.786173     0.119260        17.390295  1.174249  "
      ]
     },
     "execution_count": 11,
     "metadata": {},
     "output_type": "execute_result"
    }
   ],
   "source": [
    "allsource.head()"
   ]
  },
  {
   "cell_type": "markdown",
   "metadata": {
    "id": "-xNjmHyZRpDN"
   },
   "source": [
    "---\n",
    "\n",
    "#### Sample Sources Selection"
   ]
  },
  {
   "cell_type": "markdown",
   "metadata": {
    "id": "Q705qoz170VR"
   },
   "source": [
    "<p align=\"justify\"> To select the sample source, we select range of proper motions and parallax of the all source that the mean of the enclosed values close to the mean of proper motions ($\\bar{\\mu}_{\\alpha*}, \\bar{\\mu}_{\\delta}$) and the mean of parallax ($\\bar{\\omega}$) values from the previous hands-on (refer to Part 1). According to Agarwal et al (2021), the range of proper motions has a width between 3 and 5 mas/yr. For range of parallax, the minimum value is 0.4 mas for distant cluster such as NGC 2243 (~4400 pc) and the maximum value is 2.5 mas for nearby cluster such as NGC 6405 (~450 pc).\n",
    "</p>"
   ]
  },
  {
   "cell_type": "code",
   "execution_count": 12,
   "metadata": {
    "execution": {
     "iopub.execute_input": "2021-08-10T08:00:00.712963Z",
     "iopub.status.busy": "2021-08-10T08:00:00.712047Z",
     "iopub.status.idle": "2021-08-10T08:00:00.721882Z",
     "shell.execute_reply": "2021-08-10T08:00:00.719598Z",
     "shell.execute_reply.started": "2021-08-10T08:00:00.712887Z"
    },
    "executionInfo": {
     "elapsed": 4,
     "status": "ok",
     "timestamp": 1627097139031,
     "user": {
      "displayName": "Salma Zahra",
      "photoUrl": "https://lh3.googleusercontent.com/a-/AOh14GiOhalU5s9Gc7ZjGeoJYHAxF0cKybWTvAso5BHsHw=s64",
      "userId": "08028390035877018947"
     },
     "user_tz": -420
    },
    "id": "-I4CT3CjRpDP",
    "tags": []
   },
   "outputs": [],
   "source": [
    "HDBSCAN_MEAN_PMRA     = 9.789\n",
    "HDBSCAN_MEAN_PMDEC    = -11.833\n",
    "HDBSCAN_MEAN_PARALLAX = 2.263"
   ]
  },
  {
   "cell_type": "code",
   "execution_count": 13,
   "metadata": {
    "execution": {
     "iopub.execute_input": "2021-08-10T08:00:00.928569Z",
     "iopub.status.busy": "2021-08-10T08:00:00.927515Z",
     "iopub.status.idle": "2021-08-10T08:00:00.937976Z",
     "shell.execute_reply": "2021-08-10T08:00:00.935536Z",
     "shell.execute_reply.started": "2021-08-10T08:00:00.928474Z"
    },
    "executionInfo": {
     "elapsed": 4,
     "status": "ok",
     "timestamp": 1627097139032,
     "user": {
      "displayName": "Salma Zahra",
      "photoUrl": "https://lh3.googleusercontent.com/a-/AOh14GiOhalU5s9Gc7ZjGeoJYHAxF0cKybWTvAso5BHsHw=s64",
      "userId": "08028390035877018947"
     },
     "user_tz": -420
    },
    "id": "s9VySXa3x6qn",
    "tags": []
   },
   "outputs": [],
   "source": [
    "PMRA_RANGE     = 3.\n",
    "PMDEC_RANGE    = 3.\n",
    "PARALLAX_RANGE = 2.25"
   ]
  },
  {
   "cell_type": "code",
   "execution_count": 14,
   "metadata": {
    "execution": {
     "iopub.execute_input": "2021-08-10T08:00:24.378354Z",
     "iopub.status.busy": "2021-08-10T08:00:24.377564Z",
     "iopub.status.idle": "2021-08-10T08:00:24.402156Z",
     "shell.execute_reply": "2021-08-10T08:00:24.400189Z",
     "shell.execute_reply.started": "2021-08-10T08:00:24.378284Z"
    },
    "executionInfo": {
     "elapsed": 5,
     "status": "ok",
     "timestamp": 1627097139635,
     "user": {
      "displayName": "Salma Zahra",
      "photoUrl": "https://lh3.googleusercontent.com/a-/AOh14GiOhalU5s9Gc7ZjGeoJYHAxF0cKybWTvAso5BHsHw=s64",
      "userId": "08028390035877018947"
     },
     "user_tz": -420
    },
    "id": "pbC28wh72Z6g",
    "tags": []
   },
   "outputs": [],
   "source": [
    "samplesource = allsource[\n",
    "    (allsource['pmra'] >= HDBSCAN_MEAN_PMRA-(PMRA_RANGE/2.)) & (allsource['pmra'] <= HDBSCAN_MEAN_PMRA+(PMRA_RANGE/2.)) & \n",
    "    (allsource['pmdec'] >= HDBSCAN_MEAN_PMDEC-(PMDEC_RANGE/2.)) & (allsource['pmdec'] <= HDBSCAN_MEAN_PMDEC+(PMDEC_RANGE/2.)) &\n",
    "    (allsource['parallax'] >= HDBSCAN_MEAN_PARALLAX-(PARALLAX_RANGE/2.)) & (allsource['parallax'] <= HDBSCAN_MEAN_PARALLAX+(PARALLAX_RANGE/2.))\n",
    "].reset_index(drop=True)"
   ]
  },
  {
   "cell_type": "code",
   "execution_count": 15,
   "metadata": {
    "colab": {
     "base_uri": "https://localhost:8080/"
    },
    "execution": {
     "iopub.execute_input": "2021-08-10T08:00:33.847193Z",
     "iopub.status.busy": "2021-08-10T08:00:33.846461Z",
     "iopub.status.idle": "2021-08-10T08:00:33.863346Z",
     "shell.execute_reply": "2021-08-10T08:00:33.861216Z",
     "shell.execute_reply.started": "2021-08-10T08:00:33.847125Z"
    },
    "executionInfo": {
     "elapsed": 6,
     "status": "ok",
     "timestamp": 1627097139636,
     "user": {
      "displayName": "Salma Zahra",
      "photoUrl": "https://lh3.googleusercontent.com/a-/AOh14GiOhalU5s9Gc7ZjGeoJYHAxF0cKybWTvAso5BHsHw=s64",
      "userId": "08028390035877018947"
     },
     "user_tz": -420
    },
    "id": "DrcQ6-fJ2sjB",
    "outputId": "79026d53-f688-4752-aa17-e3fef36c84b6",
    "tags": []
   },
   "outputs": [
    {
     "data": {
      "text/plain": [
       "(9.779388485533795, -11.75149074888888, 2.0683137152152935)"
      ]
     },
     "execution_count": 15,
     "metadata": {},
     "output_type": "execute_result"
    }
   ],
   "source": [
    "samplesource['pmra'].mean(), samplesource['pmdec'].mean(), samplesource['parallax'].mean()"
   ]
  },
  {
   "cell_type": "markdown",
   "metadata": {
    "id": "r8tW8T-WRpDU"
   },
   "source": [
    "---\n",
    "\n",
    "####Visualization I "
   ]
  },
  {
   "cell_type": "markdown",
   "metadata": {
    "id": "p0AuiXdW3lUx"
   },
   "source": [
    "Vector Point Diagram"
   ]
  },
  {
   "cell_type": "code",
   "execution_count": 16,
   "metadata": {
    "colab": {
     "base_uri": "https://localhost:8080/",
     "height": 404
    },
    "execution": {
     "iopub.execute_input": "2021-08-10T08:00:50.727074Z",
     "iopub.status.busy": "2021-08-10T08:00:50.724885Z",
     "iopub.status.idle": "2021-08-10T08:00:53.643274Z",
     "shell.execute_reply": "2021-08-10T08:00:53.641132Z",
     "shell.execute_reply.started": "2021-08-10T08:00:50.726967Z"
    },
    "executionInfo": {
     "elapsed": 1143,
     "status": "ok",
     "timestamp": 1627097141656,
     "user": {
      "displayName": "Salma Zahra",
      "photoUrl": "https://lh3.googleusercontent.com/a-/AOh14GiOhalU5s9Gc7ZjGeoJYHAxF0cKybWTvAso5BHsHw=s64",
      "userId": "08028390035877018947"
     },
     "user_tz": -420
    },
    "id": "rCaVh1aFRpDU",
    "outputId": "e8fae156-b447-4e18-932d-6e9997161a29",
    "tags": []
   },
   "outputs": [
    {
     "data": {
      "image/png": "[encoded data removed]",
      "text/plain": [
       "<Figure size 432x432 with 1 Axes>"
      ]
     },
     "metadata": {
      "needs_background": "light"
     },
     "output_type": "display_data"
    }
   ],
   "source": [
    "fig = plt.figure(figsize=(6, 6))\n",
    "plt.plot(allsource['pmra'], allsource['pmdec'], '.', color='gray', markersize=2., label=\"All Sources\")\n",
    "plt.plot(samplesource['pmra'], samplesource['pmdec'], '.', color='blue', markersize=2., label=\"Sample Sources\")\n",
    "\n",
    "plt.xlabel(r\"$\\mu_{\\alpha*}$ (mas/yr)\")\n",
    "plt.ylabel(r\"$\\mu_{\\delta}$ (mas/yr)\")\n",
    "\n",
    "plt.xticks()\n",
    "plt.yticks()\n",
    "\n",
    "plt.xlim(0,20)\n",
    "plt.ylim(-20,0)\n",
    "\n",
    "plt.legend()\n",
    "plt.show()"
   ]
  },
  {
   "cell_type": "markdown",
   "metadata": {
    "id": "cr4fIKLKRpDW"
   },
   "source": [
    "Parallax Distribution"
   ]
  },
  {
   "cell_type": "code",
   "execution_count": 17,
   "metadata": {
    "execution": {
     "iopub.execute_input": "2021-08-10T08:00:59.029906Z",
     "iopub.status.busy": "2021-08-10T08:00:59.028032Z",
     "iopub.status.idle": "2021-08-10T08:00:59.045052Z",
     "shell.execute_reply": "2021-08-10T08:00:59.042040Z",
     "shell.execute_reply.started": "2021-08-10T08:00:59.029819Z"
    },
    "executionInfo": {
     "elapsed": 4,
     "status": "ok",
     "timestamp": 1627097141657,
     "user": {
      "displayName": "Salma Zahra",
      "photoUrl": "https://lh3.googleusercontent.com/a-/AOh14GiOhalU5s9Gc7ZjGeoJYHAxF0cKybWTvAso5BHsHw=s64",
      "userId": "08028390035877018947"
     },
     "user_tz": -420
    },
    "id": "VP0xKjKORpDW",
    "tags": []
   },
   "outputs": [],
   "source": [
    "bins_all = np.arange(allsource['parallax'].min(), allsource['parallax'].max(), .01)\n",
    "bins_sam = np.arange(samplesource['parallax'].min(), samplesource['parallax'].max(), .01)"
   ]
  },
  {
   "cell_type": "code",
   "execution_count": 19,
   "metadata": {
    "colab": {
     "base_uri": "https://localhost:8080/",
     "height": 288
    },
    "execution": {
     "iopub.execute_input": "2021-08-10T08:01:46.544356Z",
     "iopub.status.busy": "2021-08-10T08:01:46.542948Z",
     "iopub.status.idle": "2021-08-10T08:01:48.442418Z",
     "shell.execute_reply": "2021-08-10T08:01:48.439888Z",
     "shell.execute_reply.started": "2021-08-10T08:01:46.544272Z"
    },
    "executionInfo": {
     "elapsed": 11185,
     "status": "ok",
     "timestamp": 1627097152838,
     "user": {
      "displayName": "Salma Zahra",
      "photoUrl": "https://lh3.googleusercontent.com/a-/AOh14GiOhalU5s9Gc7ZjGeoJYHAxF0cKybWTvAso5BHsHw=s64",
      "userId": "08028390035877018947"
     },
     "user_tz": -420
    },
    "id": "diOL292uRpDW",
    "outputId": "d11ba113-282c-43de-cf73-c0e070d10c9f",
    "tags": []
   },
   "outputs": [
    {
     "data": {
      "image/png": "[encoded data removed]",
      "text/plain": [
       "<Figure size 432x288 with 1 Axes>"
      ]
     },
     "metadata": {
      "needs_background": "light"
     },
     "output_type": "display_data"
    }
   ],
   "source": [
    "plt.figure(figsize=(6, 4))\n",
    "#allsource['parallax'].hist(bins=bins_all, color='gray', label=\"All Sources\")\n",
    "samplesource['parallax'].hist(bins=bins_sam, color='b', label=\"Sample Sources\")\n",
    "\n",
    "plt.xlabel(r\"$\\omega$ (mas)\")\n",
    "plt.ylabel(\"Number of Sources\")\n",
    "\n",
    "plt.xlim([0, 5])\n",
    "\n",
    "plt.xticks()\n",
    "plt.yticks()\n",
    "\n",
    "plt.legend()\n",
    "plt.show()"
   ]
  },
  {
   "cell_type": "markdown",
   "metadata": {
    "id": "Idt_SYY8RpDX"
   },
   "source": [
    "Color Magnitude Diagram"
   ]
  },
  {
   "cell_type": "code",
   "execution_count": 20,
   "metadata": {
    "colab": {
     "base_uri": "https://localhost:8080/",
     "height": 511
    },
    "execution": {
     "iopub.execute_input": "2021-08-10T08:02:04.172142Z",
     "iopub.status.busy": "2021-08-10T08:02:04.171408Z",
     "iopub.status.idle": "2021-08-10T08:02:06.430231Z",
     "shell.execute_reply": "2021-08-10T08:02:06.427735Z",
     "shell.execute_reply.started": "2021-08-10T08:02:04.172074Z"
    },
    "executionInfo": {
     "elapsed": 1070,
     "status": "ok",
     "timestamp": 1627097153890,
     "user": {
      "displayName": "Salma Zahra",
      "photoUrl": "https://lh3.googleusercontent.com/a-/AOh14GiOhalU5s9Gc7ZjGeoJYHAxF0cKybWTvAso5BHsHw=s64",
      "userId": "08028390035877018947"
     },
     "user_tz": -420
    },
    "id": "S2DQFc_WRpDX",
    "outputId": "129ca671-0725-45ac-d43c-6086ac59787c",
    "tags": []
   },
   "outputs": [
    {
     "data": {
      "image/png": "[encoded data removed]",
      "text/plain": [
       "<Figure size 432x576 with 1 Axes>"
      ]
     },
     "metadata": {
      "needs_background": "light"
     },
     "output_type": "display_data"
    }
   ],
   "source": [
    "plt.figure(figsize=(6, 8))\n",
    "plt.plot(allsource['bp_rp'], allsource['phot_g_mean_mag'], '.', color='gray', markersize=2., label=\"All Sources\")\n",
    "plt.plot(samplesource['bp_rp'], samplesource['phot_g_mean_mag'], '.', color='b', markersize=2., label=\"Sample Sources\")\n",
    "\n",
    "plt.xlabel(r\"$G_{BP}-G_{RP}$\")\n",
    "plt.ylabel(r\"$G$ (mag)\")\n",
    "\n",
    "plt.xlim([0., 3.])\n",
    "\n",
    "plt.gca().invert_yaxis()\n",
    "plt.legend()\n",
    "plt.show()"
   ]
  },
  {
   "cell_type": "code",
   "execution_count": 21,
   "metadata": {
    "colab": {
     "base_uri": "https://localhost:8080/"
    },
    "execution": {
     "iopub.execute_input": "2021-08-10T08:02:27.979634Z",
     "iopub.status.busy": "2021-08-10T08:02:27.978892Z",
     "iopub.status.idle": "2021-08-10T08:02:27.993036Z",
     "shell.execute_reply": "2021-08-10T08:02:27.990540Z",
     "shell.execute_reply.started": "2021-08-10T08:02:27.979566Z"
    },
    "executionInfo": {
     "elapsed": 64,
     "status": "ok",
     "timestamp": 1627097153892,
     "user": {
      "displayName": "Salma Zahra",
      "photoUrl": "https://lh3.googleusercontent.com/a-/AOh14GiOhalU5s9Gc7ZjGeoJYHAxF0cKybWTvAso5BHsHw=s64",
      "userId": "08028390035877018947"
     },
     "user_tz": -420
    },
    "id": "8xQndg53RpDX",
    "outputId": "9b643722-0a3d-4e34-f798-a5c3d7c8901f",
    "tags": []
   },
   "outputs": [
    {
     "name": "stdout",
     "output_type": "stream",
     "text": [
      "All Sources = 152450 \n",
      "Sample Sources = 605\n"
     ]
    }
   ],
   "source": [
    "print('All Sources = %d \\nSample Sources = %d' %(len(allsource), len(samplesource)))"
   ]
  },
  {
   "cell_type": "markdown",
   "metadata": {
    "id": "nZt6BvlKRpDY"
   },
   "source": [
    "---\n",
    "\n",
    "#### Let's Start the Game!!!"
   ]
  },
  {
   "cell_type": "markdown",
   "metadata": {
    "id": "wsUgBgqS7wr6"
   },
   "source": [
    "Normalize the data"
   ]
  },
  {
   "cell_type": "code",
   "execution_count": 22,
   "metadata": {
    "execution": {
     "iopub.execute_input": "2021-08-10T10:03:14.507832Z",
     "iopub.status.busy": "2021-08-10T10:03:14.507081Z",
     "iopub.status.idle": "2021-08-10T10:03:14.520187Z",
     "shell.execute_reply": "2021-08-10T10:03:14.518046Z",
     "shell.execute_reply.started": "2021-08-10T10:03:14.507763Z"
    },
    "executionInfo": {
     "elapsed": 49,
     "status": "ok",
     "timestamp": 1627097153892,
     "user": {
      "displayName": "Salma Zahra",
      "photoUrl": "https://lh3.googleusercontent.com/a-/AOh14GiOhalU5s9Gc7ZjGeoJYHAxF0cKybWTvAso5BHsHw=s64",
      "userId": "08028390035877018947"
     },
     "user_tz": -420
    },
    "id": "sWnmIBBzYKpR",
    "tags": []
   },
   "outputs": [],
   "source": [
    "df = samplesource[[\"pmra\", \"pmdec\", \"parallax\"]]\n",
    "df = df.to_numpy().astype(\"float32\", copy = False)"
   ]
  },
  {
   "cell_type": "code",
   "execution_count": 23,
   "metadata": {
    "execution": {
     "iopub.execute_input": "2021-08-10T10:03:18.306487Z",
     "iopub.status.busy": "2021-08-10T10:03:18.305698Z",
     "iopub.status.idle": "2021-08-10T10:03:18.318872Z",
     "shell.execute_reply": "2021-08-10T10:03:18.316874Z",
     "shell.execute_reply.started": "2021-08-10T10:03:18.306419Z"
    },
    "executionInfo": {
     "elapsed": 49,
     "status": "ok",
     "timestamp": 1627097153893,
     "user": {
      "displayName": "Salma Zahra",
      "photoUrl": "https://lh3.googleusercontent.com/a-/AOh14GiOhalU5s9Gc7ZjGeoJYHAxF0cKybWTvAso5BHsHw=s64",
      "userId": "08028390035877018947"
     },
     "user_tz": -420
    },
    "id": "TGQcgX4AX3OD",
    "tags": []
   },
   "outputs": [],
   "source": [
    "stscaler_df = StandardScaler().fit(df)\n",
    "df_ = stscaler_df.transform(df)"
   ]
  },
  {
   "cell_type": "code",
   "execution_count": 24,
   "metadata": {
    "execution": {
     "iopub.execute_input": "2021-08-10T10:03:19.223561Z",
     "iopub.status.busy": "2021-08-10T10:03:19.222842Z",
     "iopub.status.idle": "2021-08-10T10:03:19.233800Z",
     "shell.execute_reply": "2021-08-10T10:03:19.231720Z",
     "shell.execute_reply.started": "2021-08-10T10:03:19.223496Z"
    },
    "executionInfo": {
     "elapsed": 49,
     "status": "ok",
     "timestamp": 1627097153893,
     "user": {
      "displayName": "Salma Zahra",
      "photoUrl": "https://lh3.googleusercontent.com/a-/AOh14GiOhalU5s9Gc7ZjGeoJYHAxF0cKybWTvAso5BHsHw=s64",
      "userId": "08028390035877018947"
     },
     "user_tz": -420
    },
    "id": "rmy8IGFoZEVL",
    "tags": []
   },
   "outputs": [],
   "source": [
    "norm_pmra = df_[:,0]\n",
    "norm_pmde = df_[:,1]\n",
    "norm_para = df_[:,2]"
   ]
  },
  {
   "cell_type": "markdown",
   "metadata": {
    "id": "vzNOVOVSRpDa"
   },
   "source": [
    "Select some parameters to be calculated"
   ]
  },
  {
   "cell_type": "code",
   "execution_count": 25,
   "metadata": {
    "execution": {
     "iopub.execute_input": "2021-08-10T10:03:23.198615Z",
     "iopub.status.busy": "2021-08-10T10:03:23.197880Z",
     "iopub.status.idle": "2021-08-10T10:03:23.209453Z",
     "shell.execute_reply": "2021-08-10T10:03:23.207473Z",
     "shell.execute_reply.started": "2021-08-10T10:03:23.198548Z"
    },
    "executionInfo": {
     "elapsed": 48,
     "status": "ok",
     "timestamp": 1627097153893,
     "user": {
      "displayName": "Salma Zahra",
      "photoUrl": "https://lh3.googleusercontent.com/a-/AOh14GiOhalU5s9Gc7ZjGeoJYHAxF0cKybWTvAso5BHsHw=s64",
      "userId": "08028390035877018947"
     },
     "user_tz": -420
    },
    "id": "2i1h1tQaRpDa",
    "tags": []
   },
   "outputs": [],
   "source": [
    "sample_data_dict = {\n",
    "    'norm_pmra' : norm_pmra,\n",
    "    'norm_pmde' : norm_pmde,\n",
    "    'norm_para' : norm_para,\n",
    "}\n",
    "\n",
    "sample_data = pd.DataFrame(sample_data_dict)"
   ]
  },
  {
   "cell_type": "markdown",
   "metadata": {
    "id": "SZedBMkrRpDa"
   },
   "source": [
    "Train Gaussian Mixture Model (GMM) with whole data, consider it models two gaussian components (field and cluster)"
   ]
  },
  {
   "cell_type": "code",
   "execution_count": 26,
   "metadata": {
    "execution": {
     "iopub.execute_input": "2021-08-10T10:04:31.704823Z",
     "iopub.status.busy": "2021-08-10T10:04:31.704095Z",
     "iopub.status.idle": "2021-08-10T10:04:31.772978Z",
     "shell.execute_reply": "2021-08-10T10:04:31.769932Z",
     "shell.execute_reply.started": "2021-08-10T10:04:31.704756Z"
    },
    "executionInfo": {
     "elapsed": 49,
     "status": "ok",
     "timestamp": 1627097153894,
     "user": {
      "displayName": "Salma Zahra",
      "photoUrl": "https://lh3.googleusercontent.com/a-/AOh14GiOhalU5s9Gc7ZjGeoJYHAxF0cKybWTvAso5BHsHw=s64",
      "userId": "08028390035877018947"
     },
     "user_tz": -420
    },
    "id": "2YhWasJoRpDa",
    "tags": []
   },
   "outputs": [],
   "source": [
    "gmm = GaussianMixture(n_components=2, max_iter=1000, covariance_type='full', random_state=None).fit(sample_data)"
   ]
  },
  {
   "cell_type": "markdown",
   "metadata": {
    "id": "BgGkBoqRRpDb"
   },
   "source": [
    "Calculate means, covariances and weights of trained/fitted models"
   ]
  },
  {
   "cell_type": "code",
   "execution_count": 30,
   "metadata": {
    "colab": {
     "base_uri": "https://localhost:8080/"
    },
    "execution": {
     "iopub.execute_input": "2021-08-10T10:07:00.484705Z",
     "iopub.status.busy": "2021-08-10T10:07:00.483115Z",
     "iopub.status.idle": "2021-08-10T10:07:00.498546Z",
     "shell.execute_reply": "2021-08-10T10:07:00.496568Z",
     "shell.execute_reply.started": "2021-08-10T10:07:00.484622Z"
    },
    "executionInfo": {
     "elapsed": 48,
     "status": "ok",
     "timestamp": 1627097153894,
     "user": {
      "displayName": "Salma Zahra",
      "photoUrl": "https://lh3.googleusercontent.com/a-/AOh14GiOhalU5s9Gc7ZjGeoJYHAxF0cKybWTvAso5BHsHw=s64",
      "userId": "08028390035877018947"
     },
     "user_tz": -420
    },
    "id": "ueWHgfHTRpDb",
    "outputId": "fe80fd2e-a377-4bd9-f7fb-caba788bd535",
    "tags": []
   },
   "outputs": [
    {
     "data": {
      "text/plain": [
       "(array([[ 0.01648342, -0.0725467 ,  0.49669284],\n",
       "        [-0.05034606,  0.22158241, -1.51706995]]),\n",
       " array([[[ 0.70954943,  0.06681843,  0.05405975],\n",
       "         [ 0.06681843,  0.67561129, -0.02220925],\n",
       "         [ 0.05405975, -0.02220925,  0.25097124]],\n",
       " \n",
       "        [[ 1.88377491, -0.03511748,  0.14089996],\n",
       "         [-0.03511748,  1.92562436, -0.07266628],\n",
       "         [ 0.14089996, -0.07266628,  0.23277523]]]),\n",
       " array([0.75335087, 0.24664913]))"
      ]
     },
     "execution_count": 30,
     "metadata": {},
     "output_type": "execute_result"
    }
   ],
   "source": [
    "gmm.means_, gmm.covariances_, gmm.weights_"
   ]
  },
  {
   "cell_type": "markdown",
   "metadata": {
    "id": "BGd-KEjYRpDb"
   },
   "source": [
    "Calculate the probabilities of the whole data"
   ]
  },
  {
   "cell_type": "code",
   "execution_count": 31,
   "metadata": {
    "execution": {
     "iopub.execute_input": "2021-08-10T10:21:39.886423Z",
     "iopub.status.busy": "2021-08-10T10:21:39.885642Z",
     "iopub.status.idle": "2021-08-10T10:21:39.901393Z",
     "shell.execute_reply": "2021-08-10T10:21:39.899388Z",
     "shell.execute_reply.started": "2021-08-10T10:21:39.886355Z"
    },
    "executionInfo": {
     "elapsed": 35,
     "status": "ok",
     "timestamp": 1627097153894,
     "user": {
      "displayName": "Salma Zahra",
      "photoUrl": "https://lh3.googleusercontent.com/a-/AOh14GiOhalU5s9Gc7ZjGeoJYHAxF0cKybWTvAso5BHsHw=s64",
      "userId": "08028390035877018947"
     },
     "user_tz": -420
    },
    "id": "yvmPQFxIRpDc",
    "tags": []
   },
   "outputs": [],
   "source": [
    "pred_data = gmm.predict_proba(sample_data)"
   ]
  },
  {
   "cell_type": "code",
   "execution_count": 32,
   "metadata": {
    "colab": {
     "base_uri": "https://localhost:8080/"
    },
    "execution": {
     "iopub.execute_input": "2021-08-10T10:21:46.833599Z",
     "iopub.status.busy": "2021-08-10T10:21:46.832846Z",
     "iopub.status.idle": "2021-08-10T10:21:46.848134Z",
     "shell.execute_reply": "2021-08-10T10:21:46.845231Z",
     "shell.execute_reply.started": "2021-08-10T10:21:46.833534Z"
    },
    "executionInfo": {
     "elapsed": 35,
     "status": "ok",
     "timestamp": 1627097153895,
     "user": {
      "displayName": "Salma Zahra",
      "photoUrl": "https://lh3.googleusercontent.com/a-/AOh14GiOhalU5s9Gc7ZjGeoJYHAxF0cKybWTvAso5BHsHw=s64",
      "userId": "08028390035877018947"
     },
     "user_tz": -420
    },
    "id": "DDjhY5cY-vhL",
    "outputId": "ee23d47f-e188-4c2e-a4b3-22a49a9cee57",
    "tags": []
   },
   "outputs": [
    {
     "data": {
      "text/plain": [
       "array([[4.10134505e-01, 5.89865495e-01],\n",
       "       [1.74290175e-03, 9.98257098e-01],\n",
       "       [9.95321739e-01, 4.67826066e-03],\n",
       "       ...,\n",
       "       [1.00000000e+00, 3.44824984e-12],\n",
       "       [9.77034765e-01, 2.29652346e-02],\n",
       "       [9.99605264e-01, 3.94735504e-04]])"
      ]
     },
     "execution_count": 32,
     "metadata": {},
     "output_type": "execute_result"
    }
   ],
   "source": [
    "pred_data"
   ]
  },
  {
   "cell_type": "markdown",
   "metadata": {
    "id": "r0btsQ01RpDc"
   },
   "source": [
    "Check the calculated probabilities"
   ]
  },
  {
   "cell_type": "code",
   "execution_count": 33,
   "metadata": {
    "colab": {
     "base_uri": "https://localhost:8080/",
     "height": 285
    },
    "execution": {
     "iopub.execute_input": "2021-08-10T10:21:48.683236Z",
     "iopub.status.busy": "2021-08-10T10:21:48.682504Z",
     "iopub.status.idle": "2021-08-10T10:21:49.071061Z",
     "shell.execute_reply": "2021-08-10T10:21:49.068481Z",
     "shell.execute_reply.started": "2021-08-10T10:21:48.683170Z"
    },
    "executionInfo": {
     "elapsed": 426,
     "status": "ok",
     "timestamp": 1627097154299,
     "user": {
      "displayName": "Salma Zahra",
      "photoUrl": "https://lh3.googleusercontent.com/a-/AOh14GiOhalU5s9Gc7ZjGeoJYHAxF0cKybWTvAso5BHsHw=s64",
      "userId": "08028390035877018947"
     },
     "user_tz": -420
    },
    "id": "XlJ_CdZVRpDc",
    "outputId": "3e69a1dd-5d9b-428d-a386-ef75ffc78ab5",
    "tags": []
   },
   "outputs": [
    {
     "data": {
      "text/plain": [
       "(0.0, 1.0)"
      ]
     },
     "execution_count": 33,
     "metadata": {},
     "output_type": "execute_result"
    },
    {
     "data": {
      "image/png": "[encoded data removed]",
      "text/plain": [
       "<Figure size 432x288 with 1 Axes>"
      ]
     },
     "metadata": {
      "needs_background": "light"
     },
     "output_type": "display_data"
    }
   ],
   "source": [
    "plt.hist(pred_data[:,0], bins=[0., .1, .2, .3, .4, .5, .6, .7, .8, .9, 1.])\n",
    "plt.xlim([0., 1.])"
   ]
  },
  {
   "cell_type": "code",
   "execution_count": 34,
   "metadata": {
    "colab": {
     "base_uri": "https://localhost:8080/",
     "height": 285
    },
    "execution": {
     "iopub.execute_input": "2021-08-10T10:22:00.523927Z",
     "iopub.status.busy": "2021-08-10T10:22:00.523143Z",
     "iopub.status.idle": "2021-08-10T10:22:00.926361Z",
     "shell.execute_reply": "2021-08-10T10:22:00.923494Z",
     "shell.execute_reply.started": "2021-08-10T10:22:00.523855Z"
    },
    "executionInfo": {
     "elapsed": 33,
     "status": "ok",
     "timestamp": 1627097154300,
     "user": {
      "displayName": "Salma Zahra",
      "photoUrl": "https://lh3.googleusercontent.com/a-/AOh14GiOhalU5s9Gc7ZjGeoJYHAxF0cKybWTvAso5BHsHw=s64",
      "userId": "08028390035877018947"
     },
     "user_tz": -420
    },
    "id": "Cnba8Bs8_vzu",
    "outputId": "a8e40a27-657a-443d-afcf-a877b71128e5",
    "tags": []
   },
   "outputs": [
    {
     "data": {
      "text/plain": [
       "(0.0, 1.0)"
      ]
     },
     "execution_count": 34,
     "metadata": {},
     "output_type": "execute_result"
    },
    {
     "data": {
      "image/png": "[encoded data removed]",
      "text/plain": [
       "<Figure size 432x288 with 1 Axes>"
      ]
     },
     "metadata": {
      "needs_background": "light"
     },
     "output_type": "display_data"
    }
   ],
   "source": [
    "plt.hist(pred_data[:,1], bins=[0., .1, .2, .3, .4, .5, .6, .7, .8, .9, 1.])\n",
    "plt.xlim([0., 1.])"
   ]
  },
  {
   "cell_type": "markdown",
   "metadata": {
    "id": "vE5jf1f_RpDd"
   },
   "source": [
    "---\n",
    "\n",
    "####The Probabilities"
   ]
  },
  {
   "cell_type": "markdown",
   "metadata": {
    "id": "kuQnmHA_RpDd"
   },
   "source": [
    "Input the calculated probabilities to sample source dataframe. Run the below codes until the Visualization II (Result). Because of the gaussian mixture can't determine which one is the cluster or the field stars, you could change the column. If the result of the `pred_data[:,0]` shows the field stars in the Vector Point Diagram (VPD), you should change it to `pred_data[:,1]`.   "
   ]
  },
  {
   "cell_type": "code",
   "execution_count": 35,
   "metadata": {
    "execution": {
     "iopub.execute_input": "2021-08-10T10:22:38.350956Z",
     "iopub.status.busy": "2021-08-10T10:22:38.350229Z",
     "iopub.status.idle": "2021-08-10T10:22:38.362689Z",
     "shell.execute_reply": "2021-08-10T10:22:38.360275Z",
     "shell.execute_reply.started": "2021-08-10T10:22:38.350888Z"
    },
    "executionInfo": {
     "elapsed": 3,
     "status": "ok",
     "timestamp": 1627097190439,
     "user": {
      "displayName": "Salma Zahra",
      "photoUrl": "https://lh3.googleusercontent.com/a-/AOh14GiOhalU5s9Gc7ZjGeoJYHAxF0cKybWTvAso5BHsHw=s64",
      "userId": "08028390035877018947"
     },
     "user_tz": -420
    },
    "id": "cwO2vLTsRpDd",
    "tags": []
   },
   "outputs": [],
   "source": [
    "samplesource['prob'] = pred_data[:,0]"
   ]
  },
  {
   "cell_type": "markdown",
   "metadata": {
    "id": "jHzaIi-U7s_f"
   },
   "source": [
    "Determine the probability member classes. According to Agarwal et al. (2021), there are three main classes: `member_high` is high probability members ($P(x) \\ge 0.6$); `member_moder` is moderate probability members ($0.2 \\lt P(x) \\lt 0.6$); and `member_low` is low probability members ($P(x) \\le 0.2$). There is also one additional class: `member_ultra` is ultra-high probability members ($P(x) \\ge 0.8$).  "
   ]
  },
  {
   "cell_type": "code",
   "execution_count": 36,
   "metadata": {
    "execution": {
     "iopub.execute_input": "2021-08-10T10:23:00.223981Z",
     "iopub.status.busy": "2021-08-10T10:23:00.222823Z",
     "iopub.status.idle": "2021-08-10T10:23:00.255946Z",
     "shell.execute_reply": "2021-08-10T10:23:00.253126Z",
     "shell.execute_reply.started": "2021-08-10T10:23:00.223881Z"
    },
    "executionInfo": {
     "elapsed": 4,
     "status": "ok",
     "timestamp": 1627097190894,
     "user": {
      "displayName": "Salma Zahra",
      "photoUrl": "https://lh3.googleusercontent.com/a-/AOh14GiOhalU5s9Gc7ZjGeoJYHAxF0cKybWTvAso5BHsHw=s64",
      "userId": "08028390035877018947"
     },
     "user_tz": -420
    },
    "id": "5ngT63n8RpDe",
    "tags": []
   },
   "outputs": [],
   "source": [
    "member_ultra = samplesource[samplesource['prob'] >= .8].reset_index(drop=True)\n",
    "member_high  = samplesource[samplesource['prob'] >= .6].reset_index(drop=True)\n",
    "member_moder = samplesource[(samplesource['prob'] > .2) & (samplesource['prob'] < .6)].reset_index(drop=True)\n",
    "member_low   = samplesource[samplesource['prob'] <= .2].reset_index(drop=True)"
   ]
  },
  {
   "cell_type": "markdown",
   "metadata": {
    "id": "n38D3f2aRpDg"
   },
   "source": [
    "Stars with a high probability values are automatically considered as members of the cluster. Stars with medium probability values ​​can be considered as the cluster members if their parallax values lie in the parallax value range of ultra-high probability cluster members. We can calculate it using the code below and consider it as `member_incl`."
   ]
  },
  {
   "cell_type": "code",
   "execution_count": 37,
   "metadata": {
    "execution": {
     "iopub.execute_input": "2021-08-10T10:23:45.526416Z",
     "iopub.status.busy": "2021-08-10T10:23:45.525120Z",
     "iopub.status.idle": "2021-08-10T10:23:45.543537Z",
     "shell.execute_reply": "2021-08-10T10:23:45.541027Z",
     "shell.execute_reply.started": "2021-08-10T10:23:45.526337Z"
    },
    "executionInfo": {
     "elapsed": 479,
     "status": "ok",
     "timestamp": 1627097192841,
     "user": {
      "displayName": "Salma Zahra",
      "photoUrl": "https://lh3.googleusercontent.com/a-/AOh14GiOhalU5s9Gc7ZjGeoJYHAxF0cKybWTvAso5BHsHw=s64",
      "userId": "08028390035877018947"
     },
     "user_tz": -420
    },
    "id": "s-ZyaLB_RpDg",
    "tags": []
   },
   "outputs": [],
   "source": [
    "member_incl = member_moder[(member_moder['parallax'] >= member_ultra['parallax'].min()) & \n",
    "                           (member_moder['parallax'] <= member_ultra['parallax'].max())].reset_index(drop=True)"
   ]
  },
  {
   "cell_type": "code",
   "execution_count": 38,
   "metadata": {
    "colab": {
     "base_uri": "https://localhost:8080/"
    },
    "execution": {
     "iopub.execute_input": "2021-08-10T10:23:48.252580Z",
     "iopub.status.busy": "2021-08-10T10:23:48.250957Z",
     "iopub.status.idle": "2021-08-10T10:23:48.268435Z",
     "shell.execute_reply": "2021-08-10T10:23:48.266248Z",
     "shell.execute_reply.started": "2021-08-10T10:23:48.252498Z"
    },
    "executionInfo": {
     "elapsed": 6,
     "status": "ok",
     "timestamp": 1627097192842,
     "user": {
      "displayName": "Salma Zahra",
      "photoUrl": "https://lh3.googleusercontent.com/a-/AOh14GiOhalU5s9Gc7ZjGeoJYHAxF0cKybWTvAso5BHsHw=s64",
      "userId": "08028390035877018947"
     },
     "user_tz": -420
    },
    "id": "ByqaLkgpRpDg",
    "outputId": "0b829881-7e10-44b5-8bcd-86dc8249175b",
    "tags": []
   },
   "outputs": [
    {
     "name": "stdout",
     "output_type": "stream",
     "text": [
      "Sample Sources = 605 \n",
      "High probability member sources (p >= 0.6) = 455 \n",
      "Moderate probability member sources (0.2 <= p < 0.6) = 9 \n",
      "Included moderate probability member sources = 1\n"
     ]
    }
   ],
   "source": [
    "print('Sample Sources = %d \\nHigh probability member sources (p >= 0.6) = %d \\nModerate probability member sources (0.2 <= p < 0.6) = %d \\nIncluded moderate probability member sources = %d' %(len(samplesource),\n",
    "                                                                                                                                          len(samplesource[samplesource['prob'] >= .6]),\n",
    "                                                                                                                                          len(samplesource[(samplesource['prob'] >= .2) & (samplesource['prob'] < .6)]),\n",
    "                                                                                                                                          len(member_incl)))"
   ]
  },
  {
   "cell_type": "markdown",
   "metadata": {
    "id": "3Jl7SkeVAhK5"
   },
   "source": [
    "Combine `member_high` and `member_incl` to get all members. "
   ]
  },
  {
   "cell_type": "code",
   "execution_count": 39,
   "metadata": {
    "execution": {
     "iopub.execute_input": "2021-08-10T10:25:18.032996Z",
     "iopub.status.busy": "2021-08-10T10:25:18.032091Z",
     "iopub.status.idle": "2021-08-10T10:25:18.046235Z",
     "shell.execute_reply": "2021-08-10T10:25:18.043908Z",
     "shell.execute_reply.started": "2021-08-10T10:25:18.032922Z"
    },
    "executionInfo": {
     "elapsed": 2,
     "status": "ok",
     "timestamp": 1627097193159,
     "user": {
      "displayName": "Salma Zahra",
      "photoUrl": "https://lh3.googleusercontent.com/a-/AOh14GiOhalU5s9Gc7ZjGeoJYHAxF0cKybWTvAso5BHsHw=s64",
      "userId": "08028390035877018947"
     },
     "user_tz": -420
    },
    "id": "XxcIZOCfRpDh",
    "tags": []
   },
   "outputs": [],
   "source": [
    "member_all = pd.concat([member_high, member_incl]).sort_values(by=['prob'], ascending=False).reset_index(drop=True)"
   ]
  },
  {
   "cell_type": "code",
   "execution_count": 40,
   "metadata": {
    "colab": {
     "base_uri": "https://localhost:8080/"
    },
    "execution": {
     "iopub.execute_input": "2021-08-10T10:25:19.008606Z",
     "iopub.status.busy": "2021-08-10T10:25:19.007866Z",
     "iopub.status.idle": "2021-08-10T10:25:19.021065Z",
     "shell.execute_reply": "2021-08-10T10:25:19.019050Z",
     "shell.execute_reply.started": "2021-08-10T10:25:19.008539Z"
    },
    "executionInfo": {
     "elapsed": 4,
     "status": "ok",
     "timestamp": 1627097193478,
     "user": {
      "displayName": "Salma Zahra",
      "photoUrl": "https://lh3.googleusercontent.com/a-/AOh14GiOhalU5s9Gc7ZjGeoJYHAxF0cKybWTvAso5BHsHw=s64",
      "userId": "08028390035877018947"
     },
     "user_tz": -420
    },
    "id": "7LtaAOqGRpDh",
    "outputId": "7ee6fc9d-9dfc-48b8-ba75-2505c6fc3f26",
    "tags": []
   },
   "outputs": [
    {
     "data": {
      "text/plain": [
       "456"
      ]
     },
     "execution_count": 40,
     "metadata": {},
     "output_type": "execute_result"
    }
   ],
   "source": [
    "len(member_all)"
   ]
  },
  {
   "cell_type": "markdown",
   "metadata": {
    "id": "0dXHvCYbBMCC"
   },
   "source": [
    "Calculate some important parameters"
   ]
  },
  {
   "cell_type": "markdown",
   "metadata": {
    "execution": {
     "iopub.execute_input": "2021-08-10T10:26:03.333271Z",
     "iopub.status.busy": "2021-08-10T10:26:03.332516Z",
     "iopub.status.idle": "2021-08-10T10:26:03.347280Z",
     "shell.execute_reply": "2021-08-10T10:26:03.344690Z",
     "shell.execute_reply.started": "2021-08-10T10:26:03.333204Z"
    },
    "executionInfo": {
     "elapsed": 1,
     "status": "ok",
     "timestamp": 1627097194793,
     "user": {
      "displayName": "Salma Zahra",
      "photoUrl": "https://lh3.googleusercontent.com/a-/AOh14GiOhalU5s9Gc7ZjGeoJYHAxF0cKybWTvAso5BHsHw=s64",
      "userId": "08028390035877018947"
     },
     "user_tz": -420
    },
    "id": "14C4Xy-zBP6r",
    "tags": []
   },
   "source": [
    "mean_para_val = np.mean(member_all['parallax'] + 0.013)\n",
    "mean_para_std = np.std(member_all['parallax'] + 0.013)\n",
    "\n",
    "member_dist = 1000./(member_all['parallax'] + 0.013)"
   ]
  },
  {
   "cell_type": "code",
   "execution_count": null,
   "metadata": {},
   "outputs": [],
   "source": [
    "member"
   ]
  },
  {
   "cell_type": "code",
   "execution_count": 42,
   "metadata": {
    "execution": {
     "iopub.execute_input": "2021-08-10T10:26:16.025479Z",
     "iopub.status.busy": "2021-08-10T10:26:16.024719Z",
     "iopub.status.idle": "2021-08-10T10:26:16.043472Z",
     "shell.execute_reply": "2021-08-10T10:26:16.040630Z",
     "shell.execute_reply.started": "2021-08-10T10:26:16.025412Z"
    },
    "executionInfo": {
     "elapsed": 2,
     "status": "ok",
     "timestamp": 1627097195410,
     "user": {
      "displayName": "Salma Zahra",
      "photoUrl": "https://lh3.googleusercontent.com/a-/AOh14GiOhalU5s9Gc7ZjGeoJYHAxF0cKybWTvAso5BHsHw=s64",
      "userId": "08028390035877018947"
     },
     "user_tz": -420
    },
    "id": "iF-bv030RpDh",
    "tags": []
   },
   "outputs": [],
   "source": [
    "mean_pmra_val = np.mean(member_all['pmra'])\n",
    "mean_pmra_std = np.std(member_all['pmra'])\n",
    "mean_pmde_val = np.mean(member_all['pmdec'])\n",
    "mean_pmde_std = np.std(member_all['pmdec'])\n",
    "mean_dist_val = np.mean(member_dist )\n",
    "mean_dist_std = np.std(member_dist )"
   ]
  },
  {
   "cell_type": "code",
   "execution_count": 43,
   "metadata": {
    "colab": {
     "base_uri": "https://localhost:8080/"
    },
    "execution": {
     "iopub.execute_input": "2021-08-10T10:26:23.555485Z",
     "iopub.status.busy": "2021-08-10T10:26:23.554338Z",
     "iopub.status.idle": "2021-08-10T10:26:23.573071Z",
     "shell.execute_reply": "2021-08-10T10:26:23.570666Z",
     "shell.execute_reply.started": "2021-08-10T10:26:23.555379Z"
    },
    "executionInfo": {
     "elapsed": 3,
     "status": "ok",
     "timestamp": 1627097196070,
     "user": {
      "displayName": "Salma Zahra",
      "photoUrl": "https://lh3.googleusercontent.com/a-/AOh14GiOhalU5s9Gc7ZjGeoJYHAxF0cKybWTvAso5BHsHw=s64",
      "userId": "08028390035877018947"
     },
     "user_tz": -420
    },
    "id": "AJwY4B06RpDh",
    "outputId": "206f7839-4e37-4bff-cdd4-c456aa6fa8ed",
    "tags": []
   },
   "outputs": [
    {
     "data": {
      "text/plain": [
       "(9.791474414066265,\n",
       " 0.5206687641057125,\n",
       " -11.792088530015263,\n",
       " 0.49399019478730705,\n",
       " 2.290593109034245,\n",
       " 0.2064696464797693,\n",
       " 439.8306495790558,\n",
       " 36.79747708264598)"
      ]
     },
     "execution_count": 43,
     "metadata": {},
     "output_type": "execute_result"
    }
   ],
   "source": [
    "mean_pmra_val, mean_pmra_std, mean_pmde_val, mean_pmde_std, mean_para_val, mean_para_std, mean_dist_val, mean_dist_std"
   ]
  },
  {
   "cell_type": "markdown",
   "metadata": {
    "id": "AMeMZDJoRpDi"
   },
   "source": [
    "---\n",
    "\n",
    "####Visualization II (Result)"
   ]
  },
  {
   "cell_type": "markdown",
   "metadata": {
    "id": "vnxQXic87mQY"
   },
   "source": [
    "Probability Distribution"
   ]
  },
  {
   "cell_type": "code",
   "execution_count": 44,
   "metadata": {
    "execution": {
     "iopub.execute_input": "2021-08-10T10:26:47.796378Z",
     "iopub.status.busy": "2021-08-10T10:26:47.794055Z",
     "iopub.status.idle": "2021-08-10T10:26:47.826940Z",
     "shell.execute_reply": "2021-08-10T10:26:47.824774Z",
     "shell.execute_reply.started": "2021-08-10T10:26:47.796293Z"
    },
    "executionInfo": {
     "elapsed": 2,
     "status": "ok",
     "timestamp": 1627097198115,
     "user": {
      "displayName": "Salma Zahra",
      "photoUrl": "https://lh3.googleusercontent.com/a-/AOh14GiOhalU5s9Gc7ZjGeoJYHAxF0cKybWTvAso5BHsHw=s64",
      "userId": "08028390035877018947"
     },
     "user_tz": -420
    },
    "id": "iwtopNWnRpDj",
    "tags": []
   },
   "outputs": [],
   "source": [
    "bins_samp = np.arange(samplesource['prob'].min(), samplesource['prob'].max(), .1)\n",
    "bins_high = np.arange(samplesource['prob'][samplesource['prob'] >= .6].min(), samplesource['prob'][samplesource['prob'] >= .6].max(), .1)\n",
    "bins_mode = np.arange(samplesource['prob'][(samplesource['prob'] >= .2) & (samplesource['prob'] < .6) & \n",
    "                                       (samplesource['parallax'] >= member_ultra['parallax'].min()) & \n",
    "                                       (samplesource['parallax'] <= member_ultra['parallax'].max())].min(), \n",
    "                      samplesource['prob'][(samplesource['prob'] >= .2) & (samplesource['prob'] < .6) & \n",
    "                                       (samplesource['parallax'] >= member_ultra['parallax'].min()) & \n",
    "                                       (samplesource['parallax'] <= member_ultra['parallax'].max())].max(), .1)\n",
    "\n",
    "bins = np.linspace(0., 1., 10)"
   ]
  },
  {
   "cell_type": "code",
   "execution_count": 45,
   "metadata": {
    "colab": {
     "base_uri": "https://localhost:8080/",
     "height": 286
    },
    "execution": {
     "iopub.execute_input": "2021-08-10T10:26:51.197760Z",
     "iopub.status.busy": "2021-08-10T10:26:51.195855Z",
     "iopub.status.idle": "2021-08-10T10:26:51.774609Z",
     "shell.execute_reply": "2021-08-10T10:26:51.772503Z",
     "shell.execute_reply.started": "2021-08-10T10:26:51.197646Z"
    },
    "executionInfo": {
     "elapsed": 520,
     "status": "ok",
     "timestamp": 1627097199915,
     "user": {
      "displayName": "Salma Zahra",
      "photoUrl": "https://lh3.googleusercontent.com/a-/AOh14GiOhalU5s9Gc7ZjGeoJYHAxF0cKybWTvAso5BHsHw=s64",
      "userId": "08028390035877018947"
     },
     "user_tz": -420
    },
    "id": "4UusBp7rRpDj",
    "outputId": "d0b1deaf-5b21-43da-99f3-0686e1ff3a87",
    "tags": []
   },
   "outputs": [
    {
     "data": {
      "image/png": "[encoded data removed]",
      "text/plain": [
       "<Figure size 432x288 with 1 Axes>"
      ]
     },
     "metadata": {
      "needs_background": "light"
     },
     "output_type": "display_data"
    }
   ],
   "source": [
    "plt.figure(figsize=(6, 4))\n",
    "plt.hist(samplesource['prob'], bins=[0., .1, .2, .3, .4, .5, .6, .7, .8, .9, 1.], color='darkgray', rwidth=.975, label=\"Sample Sources\")\n",
    "plt.hist(member_high['prob'], bins=[.6, .7, .8, .9, 1.], color='tab:orange', rwidth=.975, label=\"High Probability Members\")\n",
    "plt.hist(member_incl['prob'], bins=[.2, .3, .4, .5, .6], color='tab:green', rwidth=.975, label=\"Moderate Probability Members\")\n",
    "\n",
    "plt.xlabel(\"Probability\")\n",
    "plt.ylabel(\"Number of Sources\")\n",
    "\n",
    "plt.xlim([0., 1.])\n",
    "\n",
    "plt.xticks()\n",
    "plt.yticks()\n",
    "\n",
    "plt.legend()\n",
    "plt.show()"
   ]
  },
  {
   "cell_type": "markdown",
   "metadata": {
    "id": "nejiNvk4RpDj"
   },
   "source": [
    "Vector Point Diagram"
   ]
  },
  {
   "cell_type": "code",
   "execution_count": 46,
   "metadata": {
    "colab": {
     "base_uri": "https://localhost:8080/",
     "height": 399
    },
    "execution": {
     "iopub.execute_input": "2021-08-10T10:27:10.935407Z",
     "iopub.status.busy": "2021-08-10T10:27:10.934662Z",
     "iopub.status.idle": "2021-08-10T10:27:11.678881Z",
     "shell.execute_reply": "2021-08-10T10:27:11.676761Z",
     "shell.execute_reply.started": "2021-08-10T10:27:10.935337Z"
    },
    "executionInfo": {
     "elapsed": 534,
     "status": "ok",
     "timestamp": 1627097204024,
     "user": {
      "displayName": "Salma Zahra",
      "photoUrl": "https://lh3.googleusercontent.com/a-/AOh14GiOhalU5s9Gc7ZjGeoJYHAxF0cKybWTvAso5BHsHw=s64",
      "userId": "08028390035877018947"
     },
     "user_tz": -420
    },
    "id": "mGDfWaCORpDj",
    "outputId": "d4b62eff-d1c3-41c5-bffc-dbd9b8f19186",
    "tags": []
   },
   "outputs": [
    {
     "data": {
      "image/png": "[encoded data removed]",
      "text/plain": [
       "<Figure size 432x432 with 1 Axes>"
      ]
     },
     "metadata": {
      "needs_background": "light"
     },
     "output_type": "display_data"
    }
   ],
   "source": [
    "fig = plt.figure(figsize=(6, 6))\n",
    "plt.plot(samplesource['pmra'], samplesource['pmdec'], 'o', mec='silver', mfc='darkgray', markersize=5., label=\"Sample Sources\")\n",
    "plt.plot(member_high['pmra'], member_high['pmdec'], 'o', mfc='tab:orange', mec='None', markersize=5., label=r\"High probability ($p >= 0.6$)\")\n",
    "plt.plot(member_incl['pmra'], member_incl['pmdec'], 'o', mfc='tab:green', mec='None', markersize=5., label=r\"Moderate probability ($0.2 <= p <= 0.6$)\")\n",
    "\n",
    "plt.xlabel(r\"$\\mu_{\\alpha*}$ (mas/yr)\")\n",
    "plt.ylabel(r\"$\\mu_{\\delta}$ (mas/yr)\")\n",
    "\n",
    "plt.xticks()\n",
    "plt.yticks()\n",
    "\n",
    "plt.legend()\n",
    "plt.show()"
   ]
  },
  {
   "cell_type": "markdown",
   "metadata": {
    "id": "NYDS72Y4RpDk"
   },
   "source": [
    "Parallax and proper motions (pmra & pmdec) distribution"
   ]
  },
  {
   "cell_type": "code",
   "execution_count": 47,
   "metadata": {
    "execution": {
     "iopub.execute_input": "2021-08-10T10:27:39.431505Z",
     "iopub.status.busy": "2021-08-10T10:27:39.430768Z",
     "iopub.status.idle": "2021-08-10T10:27:39.447024Z",
     "shell.execute_reply": "2021-08-10T10:27:39.444491Z",
     "shell.execute_reply.started": "2021-08-10T10:27:39.431437Z"
    },
    "executionInfo": {
     "elapsed": 316,
     "status": "ok",
     "timestamp": 1627097207796,
     "user": {
      "displayName": "Salma Zahra",
      "photoUrl": "https://lh3.googleusercontent.com/a-/AOh14GiOhalU5s9Gc7ZjGeoJYHAxF0cKybWTvAso5BHsHw=s64",
      "userId": "08028390035877018947"
     },
     "user_tz": -420
    },
    "id": "HGVbzoZbRpDk",
    "tags": []
   },
   "outputs": [],
   "source": [
    "bins_samp = np.arange(samplesource['parallax'].min(), samplesource['parallax'].max(), .05)\n",
    "bins_high = np.arange(member_high['parallax'].min(), member_high['parallax'].max(), .05)\n",
    "bins_mode = np.arange(member_incl['parallax'].min(), member_incl['parallax'].max(), .05)"
   ]
  },
  {
   "cell_type": "code",
   "execution_count": 48,
   "metadata": {
    "colab": {
     "base_uri": "https://localhost:8080/",
     "height": 288
    },
    "execution": {
     "iopub.execute_input": "2021-08-10T10:27:39.940650Z",
     "iopub.status.busy": "2021-08-10T10:27:39.939779Z",
     "iopub.status.idle": "2021-08-10T10:27:40.952547Z",
     "shell.execute_reply": "2021-08-10T10:27:40.950463Z",
     "shell.execute_reply.started": "2021-08-10T10:27:39.940567Z"
    },
    "executionInfo": {
     "elapsed": 1278,
     "status": "ok",
     "timestamp": 1627097210318,
     "user": {
      "displayName": "Salma Zahra",
      "photoUrl": "https://lh3.googleusercontent.com/a-/AOh14GiOhalU5s9Gc7ZjGeoJYHAxF0cKybWTvAso5BHsHw=s64",
      "userId": "08028390035877018947"
     },
     "user_tz": -420
    },
    "id": "eZCYBg8kRpDl",
    "outputId": "e3dc29c1-02ec-40be-d8b9-34de627dba3a",
    "tags": []
   },
   "outputs": [
    {
     "data": {
      "image/png": "[encoded data removed]",
      "text/plain": [
       "<Figure size 432x288 with 1 Axes>"
      ]
     },
     "metadata": {
      "needs_background": "light"
     },
     "output_type": "display_data"
    }
   ],
   "source": [
    "plt.figure(figsize=(6, 4))\n",
    "samplesource['parallax'].hist(bins=bins_samp, color='silver', rwidth=.85, label=\"Sample Sources\")\n",
    "member_high['parallax'].hist(bins=bins_high, color='tab:orange', rwidth=.85, label=r\"High probability ($p >= 0.6$)\")\n",
    "member_incl['parallax'].hist(bins=bins_mode, color='tab:green', rwidth=.85, label=r\"Moderate probability ($0.2 <= p <= 0.6$)\")\n",
    "\n",
    "plt.xlabel(r\"$\\omega$ (mas)\")\n",
    "plt.ylabel(\"Number of Sources\")\n",
    "\n",
    "plt.xticks()\n",
    "plt.yticks()\n",
    "\n",
    "plt.legend()\n",
    "plt.show()"
   ]
  },
  {
   "cell_type": "markdown",
   "metadata": {
    "id": "rW1uii4-RpDl"
   },
   "source": [
    "Spatial distribution"
   ]
  },
  {
   "cell_type": "code",
   "execution_count": 49,
   "metadata": {
    "execution": {
     "iopub.execute_input": "2021-08-10T10:27:57.940041Z",
     "iopub.status.busy": "2021-08-10T10:27:57.939267Z",
     "iopub.status.idle": "2021-08-10T10:27:58.062876Z",
     "shell.execute_reply": "2021-08-10T10:27:58.060849Z",
     "shell.execute_reply.started": "2021-08-10T10:27:57.939969Z"
    },
    "executionInfo": {
     "elapsed": 3,
     "status": "ok",
     "timestamp": 1627097213120,
     "user": {
      "displayName": "Salma Zahra",
      "photoUrl": "https://lh3.googleusercontent.com/a-/AOh14GiOhalU5s9Gc7ZjGeoJYHAxF0cKybWTvAso5BHsHw=s64",
      "userId": "08028390035877018947"
     },
     "user_tz": -420
    },
    "id": "N5R6ycc1RpDm",
    "tags": []
   },
   "outputs": [],
   "source": [
    "coor_all  = SkyCoord(ra=samplesource.ra, dec=samplesource.dec, frame='icrs', unit=(u.deg, u.deg))\n",
    "coor_high = SkyCoord(ra=member_high.ra, dec=member_high.dec, frame='icrs', unit=(u.deg, u.deg))\n",
    "coor_mid  = SkyCoord(ra=member_incl.ra, dec=member_incl.dec, frame='icrs', unit=(u.deg, u.deg))"
   ]
  },
  {
   "cell_type": "code",
   "execution_count": 50,
   "metadata": {
    "execution": {
     "iopub.execute_input": "2021-08-10T10:27:59.749507Z",
     "iopub.status.busy": "2021-08-10T10:27:59.748345Z",
     "iopub.status.idle": "2021-08-10T10:27:59.779276Z",
     "shell.execute_reply": "2021-08-10T10:27:59.777133Z",
     "shell.execute_reply.started": "2021-08-10T10:27:59.749398Z"
    },
    "executionInfo": {
     "elapsed": 2,
     "status": "ok",
     "timestamp": 1627097214349,
     "user": {
      "displayName": "Salma Zahra",
      "photoUrl": "https://lh3.googleusercontent.com/a-/AOh14GiOhalU5s9Gc7ZjGeoJYHAxF0cKybWTvAso5BHsHw=s64",
      "userId": "08028390035877018947"
     },
     "user_tz": -420
    },
    "id": "D2jJEZDcRpDm",
    "tags": []
   },
   "outputs": [],
   "source": [
    "ra_all  = coor_all.ra.wrap_at(180 * u.deg).degree\n",
    "de_all  = coor_all.dec.degree\n",
    "\n",
    "ra_high = coor_high.ra.wrap_at(180 * u.deg).degree\n",
    "de_high = coor_high.dec.degree\n",
    "\n",
    "ra_mid  = coor_mid.ra.wrap_at(180 * u.deg).degree\n",
    "de_mid  = coor_mid.dec.degree"
   ]
  },
  {
   "cell_type": "code",
   "execution_count": 51,
   "metadata": {
    "colab": {
     "base_uri": "https://localhost:8080/",
     "height": 399
    },
    "execution": {
     "iopub.execute_input": "2021-08-10T10:28:00.359284Z",
     "iopub.status.busy": "2021-08-10T10:28:00.358193Z",
     "iopub.status.idle": "2021-08-10T10:28:01.020225Z",
     "shell.execute_reply": "2021-08-10T10:28:01.017708Z",
     "shell.execute_reply.started": "2021-08-10T10:28:00.359181Z"
    },
    "executionInfo": {
     "elapsed": 585,
     "status": "ok",
     "timestamp": 1627097216098,
     "user": {
      "displayName": "Salma Zahra",
      "photoUrl": "https://lh3.googleusercontent.com/a-/AOh14GiOhalU5s9Gc7ZjGeoJYHAxF0cKybWTvAso5BHsHw=s64",
      "userId": "08028390035877018947"
     },
     "user_tz": -420
    },
    "id": "1zIp8t50RpDm",
    "outputId": "9bc13a76-5a86-4721-c17c-e79b16e907b0",
    "tags": []
   },
   "outputs": [
    {
     "data": {
      "image/png": "[encoded data removed]",
      "text/plain": [
       "<Figure size 432x432 with 1 Axes>"
      ]
     },
     "metadata": {
      "needs_background": "light"
     },
     "output_type": "display_data"
    }
   ],
   "source": [
    "fig = plt.figure(figsize=(6, 6))\n",
    "ax = plt.subplot()\n",
    "plt.plot(ra_all, de_all, 'o', mec='silver', mfc='darkgray', markersize=2., label=\"Sample sources\")\n",
    "plt.plot(ra_high, de_high, 'o', mfc='tab:orange', markersize=2., label=r\"High probability ($p >= 0.6$)\")\n",
    "plt.plot(ra_mid, de_mid, 'o', mfc='tab:green', markersize=2., label=r\"Moderate probability ($0.2 <= p <= 0.6$)\")\n",
    "\n",
    "plt.xlabel(r'$\\alpha$ (deg)')\n",
    "plt.ylabel(r'$\\delta$ (deg)')\n",
    "\n",
    "plt.legend()\n",
    "#ax.set_xticklabels([358.25, 358.5, 358.75, 359.0, 359.25, 359.5, 359.75, 0.00, 0.25], fontsize=18.)\n",
    "plt.show()"
   ]
  },
  {
   "cell_type": "markdown",
   "metadata": {
    "id": "XFnvCnsfRpDm"
   },
   "source": [
    "Color Magnitude Diagram"
   ]
  },
  {
   "cell_type": "code",
   "execution_count": 52,
   "metadata": {
    "execution": {
     "iopub.execute_input": "2021-08-10T10:28:10.842316Z",
     "iopub.status.busy": "2021-08-10T10:28:10.841531Z",
     "iopub.status.idle": "2021-08-10T10:28:10.869482Z",
     "shell.execute_reply": "2021-08-10T10:28:10.867352Z",
     "shell.execute_reply.started": "2021-08-10T10:28:10.842245Z"
    },
    "tags": []
   },
   "outputs": [],
   "source": [
    "data123=pd.read_csv('output876219613551.dat.txt',sep='\\s+')"
   ]
  },
  {
   "cell_type": "code",
   "execution_count": 53,
   "metadata": {
    "colab": {
     "base_uri": "https://localhost:8080/",
     "height": 506
    },
    "execution": {
     "iopub.execute_input": "2021-08-10T10:28:11.968397Z",
     "iopub.status.busy": "2021-08-10T10:28:11.967683Z",
     "iopub.status.idle": "2021-08-10T10:28:13.090237Z",
     "shell.execute_reply": "2021-08-10T10:28:13.087802Z",
     "shell.execute_reply.started": "2021-08-10T10:28:11.968332Z"
    },
    "executionInfo": {
     "elapsed": 762,
     "status": "ok",
     "timestamp": 1627097243324,
     "user": {
      "displayName": "Salma Zahra",
      "photoUrl": "https://lh3.googleusercontent.com/a-/AOh14GiOhalU5s9Gc7ZjGeoJYHAxF0cKybWTvAso5BHsHw=s64",
      "userId": "08028390035877018947"
     },
     "user_tz": -420
    },
    "id": "xP7TkK3WRpDn",
    "outputId": "6fad4b0f-bcfe-4282-caaf-2065c20c24c7",
    "tags": []
   },
   "outputs": [
    {
     "data": {
      "image/png": "[encoded data removed]",
      "text/plain": [
       "<Figure size 432x576 with 1 Axes>"
      ]
     },
     "metadata": {
      "needs_background": "light"
     },
     "output_type": "display_data"
    }
   ],
   "source": [
    "plt.figure(figsize=(6, 8))\n",
    "plt.plot(samplesource['bp_rp'], samplesource['phot_g_mean_mag'], 'o', mec='silver', mfc='darkgray', markersize=2., label=\"Sample Sources\")\n",
    "plt.plot(member_high['bp_rp'], member_high['phot_g_mean_mag'], 'o', color='tab:orange', markersize=2., label=r\"High probability ($p >= 0.6$)\")\n",
    "plt.plot(member_incl['bp_rp'], member_incl['phot_g_mean_mag'], 'o', color='tab:green', markersize=2., label=r\"Moderate probability ($0.2 <= p <= 0.6$)\")\n",
    "#plt.plot(data123.G_BPmag-data123.G_RPmag,data123.Gmag,'b.')\n",
    "plt.xlabel(r\"$G_{BP}-G_{RP}$\")\n",
    "plt.ylabel(r\"$G$ (mag)\")\n",
    "\n",
    "plt.xlim([0., 3.])\n",
    "\n",
    "plt.gca().invert_yaxis()\n",
    "plt.legend()\n",
    "plt.show()"
   ]
  },
  {
   "cell_type": "code",
   "execution_count": 56,
   "metadata": {
    "colab": {
     "base_uri": "https://localhost:8080/",
     "height": 506
    },
    "execution": {
     "iopub.execute_input": "2021-08-10T10:29:37.773044Z",
     "iopub.status.busy": "2021-08-10T10:29:37.771799Z",
     "iopub.status.idle": "2021-08-10T10:29:38.319280Z",
     "shell.execute_reply": "2021-08-10T10:29:38.316538Z",
     "shell.execute_reply.started": "2021-08-10T10:29:37.772934Z"
    },
    "executionInfo": {
     "elapsed": 5,
     "status": "ok",
     "timestamp": 1627097243683,
     "user": {
      "displayName": "Salma Zahra",
      "photoUrl": "https://lh3.googleusercontent.com/a-/AOh14GiOhalU5s9Gc7ZjGeoJYHAxF0cKybWTvAso5BHsHw=s64",
      "userId": "08028390035877018947"
     },
     "user_tz": -420
    },
    "id": "j8w2fVZERpDn",
    "outputId": "3319513e-ea5b-40d4-eef6-95ed29e85182",
    "tags": []
   },
   "outputs": [
    {
     "data": {
      "image/png": "[encoded data removed]",
      "text/plain": [
       "<Figure size 432x576 with 1 Axes>"
      ]
     },
     "metadata": {
      "needs_background": "light"
     },
     "output_type": "display_data"
    }
   ],
   "source": [
    "plt.figure(figsize=(6, 8))\n",
    "plt.plot(member_all['bp_rp'], member_all['phot_g_mean_mag'], 'o', color='tab:blue', markersize=2., label=r\"All members\")\n",
    "plt.plot(data123.G_BPmag-data123.G_RPmag,data123.Gmag,'r.')\n",
    "plt.xlabel(r\"$G_{BP}-G_{RP}$\")\n",
    "plt.ylabel(r\"$G$ (mag)\")\n",
    "\n",
    "plt.xlim([0., 3.])\n",
    "\n",
    "plt.gca().invert_yaxis()\n",
    "plt.legend()\n",
    "plt.show()"
   ]
  },
  {
   "cell_type": "markdown",
   "metadata": {
    "id": "dDGgnNv2dvrn"
   },
   "source": [
    "\n",
    "\n",
    "---\n",
    "\n",
    "\n",
    "####Tasks"
   ]
  },
  {
   "cell_type": "markdown",
   "metadata": {
    "id": "YGC0ygfaeWoR"
   },
   "source": [
    "You can also try with other data! <br>\n",
    "* M 67 = [gaiaedr3_150_M67.csv](https://drive.google.com/file/d/1eX41_G_W1eP3-9Qxi0OzM-BAIQOAQjbU/view?usp=sharing) <br>\n",
    "* NGC 7789 = [gaiaedr3_45_NGC7789.csv](https://drive.google.com/file/d/12TAgIMdPgFUTtpL2jely0Y7umQCRhcEy/view?usp=sharing) \n",
    "\n"
   ]
  },
  {
   "cell_type": "markdown",
   "metadata": {
    "id": "x7wav6hS517X"
   },
   "source": [
    "## 6. References"
   ]
  },
  {
   "cell_type": "markdown",
   "metadata": {
    "id": "-tv1hTDh53-F"
   },
   "source": [
    "1. Agarwal, Manan, et al. \"ML-MOC: Machine Learning (kNN and GMM) based Membership determination for Open Clusters.\" Monthly Notices of the Royal Astronomical Society 502.2 (2021): 2582-2599.\n",
    "2. Gaia Collaboration. \"VizieR Online Data Catalog: Gaia DR2 (Gaia Collaboration, 2018).\" VizieR Online Data Catalog (2018): I-345.\n",
    "3. McLachlan, G. and Peel., D. \"Finite mixture models.\" (2000).\n",
    "4. Pedregosa, Fabian, et al. \"Scikit-learn: Machine learning in Python.\" the Journal of machine Learning research 12 (2011): 2825-2830.\n",
    "\n",
    "\n",
    "\n",
    "\n",
    "\n",
    "\n",
    "\n",
    "\n",
    "\n",
    "\n"
   ]
  }
 ],
 "metadata": {
  "colab": {
   "collapsed_sections": [],
   "name": "day07_handson_gmm.ipynb",
   "provenance": []
  },
  "kernelspec": {
   "display_name": "Python 3 (ipykernel)",
   "language": "python",
   "name": "python3"
  },
  "language_info": {
   "codemirror_mode": {
    "name": "ipython",
    "version": 3
   },
   "file_extension": ".py",
   "mimetype": "text/x-python",
   "name": "python",
   "nbconvert_exporter": "python",
   "pygments_lexer": "ipython3",
   "version": "3.8.10"
  }
 },
 "nbformat": 4,
 "nbformat_minor": 4
}
