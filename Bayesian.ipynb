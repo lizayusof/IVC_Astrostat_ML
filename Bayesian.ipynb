{
 "cells": [
  {
   "cell_type": "code",
   "execution_count": 1,
   "id": "c5d78246-9e89-4ce8-ba2f-03ace4147087",
   "metadata": {
    "execution": {
     "iopub.execute_input": "2021-08-05T06:08:01.110208Z",
     "iopub.status.busy": "2021-08-05T06:08:01.108987Z",
     "iopub.status.idle": "2021-08-05T06:08:05.190576Z",
     "shell.execute_reply": "2021-08-05T06:08:05.187598Z",
     "shell.execute_reply.started": "2021-08-05T06:08:01.109913Z"
    },
    "tags": []
   },
   "outputs": [],
   "source": [
    "import pandas as pd\n",
    "import numpy as np\n",
    "import matplotlib.pyplot as plt\n",
    "\n",
    "from scipy.stats import norm \n",
    "from scipy import integrate\n",
    "import warnings \n",
    "from collections import Counter\n",
    "warnings.filterwarnings('ignore')"
   ]
  },
  {
   "cell_type": "code",
   "execution_count": 2,
   "id": "b1dd5f9f-3a05-477e-b1ed-82dcf2532533",
   "metadata": {
    "execution": {
     "iopub.execute_input": "2021-08-05T06:08:05.198651Z",
     "iopub.status.busy": "2021-08-05T06:08:05.197372Z",
     "iopub.status.idle": "2021-08-05T06:08:08.253956Z",
     "shell.execute_reply": "2021-08-05T06:08:08.251635Z",
     "shell.execute_reply.started": "2021-08-05T06:08:05.198537Z"
    },
    "tags": []
   },
   "outputs": [],
   "source": [
    "gaiadata=pd.read_csv('gaia_edr3_selected.csv')"
   ]
  },
  {
   "cell_type": "code",
   "execution_count": 3,
   "id": "f30a2907-bdc7-45af-b47d-0b1f501283d6",
   "metadata": {
    "execution": {
     "iopub.execute_input": "2021-08-05T06:08:08.257294Z",
     "iopub.status.busy": "2021-08-05T06:08:08.256459Z",
     "iopub.status.idle": "2021-08-05T06:08:08.277525Z",
     "shell.execute_reply": "2021-08-05T06:08:08.274370Z",
     "shell.execute_reply.started": "2021-08-05T06:08:08.257224Z"
    },
    "tags": []
   },
   "outputs": [
    {
     "data": {
      "text/plain": [
       "Index(['source_id', 'ra', 'dec', 'l', 'b', 'parallax_corr', 'pmra', 'pmdec',\n",
       "       'phot_g_mean_mag_corr', 'phot_bp_mean_mag', 'phot_rp_mean_mag',\n",
       "       'ra_error', 'dec_error', 'parallax_error', 'pmra_error', 'pmdec_error',\n",
       "       'phot_g_mean_flux_corr', 'phot_g_mean_flux_error', 'phot_bp_mean_flux',\n",
       "       'phot_bp_mean_flux_error', 'phot_rp_mean_flux',\n",
       "       'phot_rp_mean_flux_error', 'r_med_geo', 'r_lo_geo', 'r_hi_geo',\n",
       "       'r_med_photogeo', 'r_lo_photogeo', 'r_hi_photogeo', 'bp_rp', 'qg_geo',\n",
       "       'gq_photogeo'],\n",
       "      dtype='object')"
      ]
     },
     "execution_count": 3,
     "metadata": {},
     "output_type": "execute_result"
    }
   ],
   "source": [
    "gaiadata.columns"
   ]
  },
  {
   "cell_type": "code",
   "execution_count": 4,
   "id": "bc6d2004-37b1-438a-9c6d-d6fd3232842b",
   "metadata": {
    "execution": {
     "iopub.execute_input": "2021-08-05T06:08:08.284313Z",
     "iopub.status.busy": "2021-08-05T06:08:08.283241Z",
     "iopub.status.idle": "2021-08-05T06:08:08.298084Z",
     "shell.execute_reply": "2021-08-05T06:08:08.294411Z",
     "shell.execute_reply.started": "2021-08-05T06:08:08.284214Z"
    },
    "tags": []
   },
   "outputs": [],
   "source": [
    "np.random.seed(47+28+13+9+15+32+44+45)\n",
    "s = np.floor(np.random.randint(0,100000,10))"
   ]
  },
  {
   "cell_type": "code",
   "execution_count": 5,
   "id": "56c684a3-bba6-487b-b88a-516874a2b2da",
   "metadata": {
    "execution": {
     "iopub.execute_input": "2021-08-05T06:08:08.303114Z",
     "iopub.status.busy": "2021-08-05T06:08:08.302090Z",
     "iopub.status.idle": "2021-08-05T06:08:08.326607Z",
     "shell.execute_reply": "2021-08-05T06:08:08.322885Z",
     "shell.execute_reply.started": "2021-08-05T06:08:08.303040Z"
    },
    "tags": []
   },
   "outputs": [
    {
     "data": {
      "text/plain": [
       "array([ 3879., 15829., 43377., 22524., 17539., 89941., 72107., 17572.,\n",
       "       59121., 68326.])"
      ]
     },
     "execution_count": 5,
     "metadata": {},
     "output_type": "execute_result"
    }
   ],
   "source": [
    "s"
   ]
  },
  {
   "cell_type": "code",
   "execution_count": 6,
   "id": "51832b8e-97b0-4088-ae28-3e753ab3217d",
   "metadata": {
    "execution": {
     "iopub.execute_input": "2021-08-05T06:08:08.331484Z",
     "iopub.status.busy": "2021-08-05T06:08:08.330777Z",
     "iopub.status.idle": "2021-08-05T06:08:08.396044Z",
     "shell.execute_reply": "2021-08-05T06:08:08.393535Z",
     "shell.execute_reply.started": "2021-08-05T06:08:08.331412Z"
    },
    "tags": []
   },
   "outputs": [],
   "source": [
    "data=gaiadata.iloc[s]\n"
   ]
  },
  {
   "cell_type": "code",
   "execution_count": 7,
   "id": "496c48a5-a8a3-4862-b9e1-c1a743f591cc",
   "metadata": {
    "execution": {
     "iopub.execute_input": "2021-08-04T19:39:01.468081Z",
     "iopub.status.busy": "2021-08-04T19:39:01.467357Z",
     "iopub.status.idle": "2021-08-04T19:39:01.761563Z",
     "shell.execute_reply": "2021-08-04T19:39:01.758713Z",
     "shell.execute_reply.started": "2021-08-04T19:39:01.468015Z"
    },
    "tags": []
   },
   "outputs": [
    {
     "ename": "NameError",
     "evalue": "name 'uncertainity' is not defined",
     "output_type": "error",
     "traceback": [
      "\u001b[0;31m---------------------------------------------------------------------------\u001b[0m",
      "\u001b[0;31mNameError\u001b[0m                                 Traceback (most recent call last)",
      "\u001b[0;32m/tmp/ipykernel_58764/2705225999.py\u001b[0m in \u001b[0;36m<module>\u001b[0;34m\u001b[0m\n\u001b[0;32m----> 1\u001b[0;31m \u001b[0muncertainity\u001b[0m\u001b[0;34m/\u001b[0m\u001b[0mparallax\u001b[0m\u001b[0;34m\u001b[0m\u001b[0;34m\u001b[0m\u001b[0m\n\u001b[0m",
      "\u001b[0;31mNameError\u001b[0m: name 'uncertainity' is not defined"
     ]
    }
   ],
   "source": [
    "uncertainity/parallax"
   ]
  },
  {
   "cell_type": "code",
   "execution_count": 7,
   "id": "6394fbf2-d4ed-467c-a71c-8f88e941d048",
   "metadata": {
    "execution": {
     "iopub.execute_input": "2021-08-05T06:08:08.400551Z",
     "iopub.status.busy": "2021-08-05T06:08:08.399500Z",
     "iopub.status.idle": "2021-08-05T06:08:08.420999Z",
     "shell.execute_reply": "2021-08-05T06:08:08.418895Z",
     "shell.execute_reply.started": "2021-08-05T06:08:08.400440Z"
    },
    "tags": []
   },
   "outputs": [],
   "source": [
    "parallax=data.parallax_corr.array\n",
    "uncertainity=data.parallax_error.array\n",
    "r=np.linspace(0,20,50001,endpoint=True)"
   ]
  },
  {
   "cell_type": "code",
   "execution_count": 314,
   "id": "85f0c639-b29d-4e31-b656-19e3f88e5d7d",
   "metadata": {
    "execution": {
     "iopub.execute_input": "2021-08-04T19:38:35.611209Z",
     "iopub.status.busy": "2021-08-04T19:38:35.609374Z",
     "iopub.status.idle": "2021-08-04T19:38:35.627111Z",
     "shell.execute_reply": "2021-08-04T19:38:35.624689Z",
     "shell.execute_reply.started": "2021-08-04T19:38:35.611134Z"
    },
    "tags": []
   },
   "outputs": [],
   "source": [
    "def likelihood(plx,sigma,r):\n",
    "    return norm.pdf(plx,1/r,sigma)\n",
    "\n",
    "def uniformprior(r,rlim):\n",
    "    p=[]\n",
    "    for i in r:\n",
    "        if (0<i) & (i<=rlim):\n",
    "            p.append(1)\n",
    "        else:\n",
    "            p.append(0)\n",
    "    return p\n",
    "\n",
    "def expdecprior(r,L):\n",
    "    p=[]\n",
    "    for i in r:\n",
    "        if i>0:\n",
    "            p.append(r**2 * np.exp(-i/L))\n",
    "        else:\n",
    "            p.append(0)\n",
    "    return p"
   ]
  },
  {
   "cell_type": "code",
   "execution_count": 315,
   "id": "7353286c-ee23-4e5a-a2eb-15f4ec14bbf7",
   "metadata": {
    "execution": {
     "iopub.execute_input": "2021-08-04T19:38:36.399058Z",
     "iopub.status.busy": "2021-08-04T19:38:36.397695Z",
     "iopub.status.idle": "2021-08-04T19:38:36.419786Z",
     "shell.execute_reply": "2021-08-04T19:38:36.417784Z",
     "shell.execute_reply.started": "2021-08-04T19:38:36.398981Z"
    },
    "tags": []
   },
   "outputs": [
    {
     "name": "stdout",
     "output_type": "stream",
     "text": [
      "uncertainty =  0.45525286\n",
      "parallax =  -0.1743555807622093\n",
      "f_obs =  -2.61105986977776\n"
     ]
    }
   ],
   "source": [
    "k=2\n",
    "\n",
    "l = likelihood(parallax[k],uncertainity[k],r)\n",
    "print('uncertainty = ', uncertainity[k])\n",
    "print('parallax = ', parallax[k])\n",
    "print('f_obs = ', uncertainity[k]/parallax[k])\n"
   ]
  },
  {
   "cell_type": "code",
   "execution_count": 316,
   "id": "360f389b-12ba-49b1-ab32-514195d743a3",
   "metadata": {
    "execution": {
     "iopub.execute_input": "2021-08-04T19:38:37.805412Z",
     "iopub.status.busy": "2021-08-04T19:38:37.804164Z",
     "iopub.status.idle": "2021-08-04T19:38:38.013390Z",
     "shell.execute_reply": "2021-08-04T19:38:38.011182Z",
     "shell.execute_reply.started": "2021-08-04T19:38:37.805311Z"
    },
    "tags": []
   },
   "outputs": [],
   "source": [
    "posterior_uniform = l*uniformprior(r,20)\n"
   ]
  },
  {
   "cell_type": "code",
   "execution_count": 317,
   "id": "17598b78-baf0-4870-9199-ba38eac68781",
   "metadata": {
    "execution": {
     "iopub.execute_input": "2021-08-04T19:38:40.524800Z",
     "iopub.status.busy": "2021-08-04T19:38:40.524067Z",
     "iopub.status.idle": "2021-08-04T19:38:41.027392Z",
     "shell.execute_reply": "2021-08-04T19:38:41.024809Z",
     "shell.execute_reply.started": "2021-08-04T19:38:40.524735Z"
    },
    "tags": []
   },
   "outputs": [
    {
     "data": {
      "text/plain": [
       "[<matplotlib.lines.Line2D at 0x7fe503e133d0>]"
      ]
     },
     "execution_count": 317,
     "metadata": {},
     "output_type": "execute_result"
    },
    {
     "data": {
      "image/png": "[encoded data removed]",
      "text/plain": [
       "<Figure size 720x504 with 1 Axes>"
      ]
     },
     "metadata": {
      "needs_background": "light"
     },
     "output_type": "display_data"
    }
   ],
   "source": [
    "plt.figure(figsize=[10,7])\n",
    "plt.plot(r,posterior_uniform)"
   ]
  },
  {
   "cell_type": "code",
   "execution_count": null,
   "id": "7135b7c5-3472-430d-8d1a-65f57d3195a5",
   "metadata": {
    "tags": []
   },
   "outputs": [],
   "source": []
  },
  {
   "cell_type": "code",
   "execution_count": 24,
   "id": "ebea8a57-dcd1-403c-a460-0b67793fc268",
   "metadata": {
    "execution": {
     "iopub.execute_input": "2021-08-05T06:15:00.698658Z",
     "iopub.status.busy": "2021-08-05T06:15:00.697752Z",
     "iopub.status.idle": "2021-08-05T06:15:00.792795Z",
     "shell.execute_reply": "2021-08-05T06:15:00.790572Z",
     "shell.execute_reply.started": "2021-08-05T06:15:00.698547Z"
    },
    "tags": []
   },
   "outputs": [],
   "source": [
    "class parallax_distance:\n",
    "    def __init__(self, parallax,uncertainity):\n",
    "        self.p=parallax\n",
    "        self.sigma=uncertainity\n",
    "        self.f_obs=uncertainity/parallax\n",
    "        self.r_min=0\n",
    "        self.r_max=20\n",
    "    \n",
    "    \n",
    "    def create_r(self,r_min,r_max,samples):\n",
    "        r=np.linspace(r_min,r_max,samples,endpoint=True)\n",
    "        self.r_max=r_max\n",
    "        return r\n",
    "    \n",
    "    \n",
    "    ##### PRIORS #######\n",
    "    \n",
    "    def likelihood(self,plx,sigma,r):\n",
    "        return norm.pdf(plx,1/r,sigma)\n",
    "\n",
    "    def uniformprior(self,r,rlim):\n",
    "        p=[]\n",
    "        for i in r:\n",
    "            if (0<i) & (i<=rlim):\n",
    "                p.append(1)\n",
    "            else:\n",
    "                p.append(0)\n",
    "        return p\n",
    "\n",
    "    def expdecprior(self,r,L):\n",
    "        p=[]\n",
    "        for i in r:\n",
    "            if i>0:\n",
    "                p.append(i**2 * np.exp(-i/L))\n",
    "            else:\n",
    "                p.append(0)\n",
    "        return p\n",
    "    \n",
    "    ### POSTERIOR ###\n",
    "    \n",
    "    def posterior(self,r, rlim=20, L=None, prior='uniform'):\n",
    "        if (prior.lower()=='exp') & (L==None):\n",
    "            print('Parameters for priors not inserted')\n",
    "            return 0\n",
    "        if prior.lower()=='uniform':\n",
    "            return np.array(self.likelihood(self.p,self.sigma,r)*self.uniformprior(r,rlim))\n",
    "        if prior.lower()=='exp':\n",
    "            return np.array(self.likelihood(self.p,self.sigma,r)*self.expdecprior(r,L))\n",
    "        \n",
    "    def __calc_mean_mod(self,post,r):\n",
    "        mode=r[np.argmax(post)]\n",
    "        area=self.area(post,r)\n",
    "        postnorm=post/area\n",
    "        median=0\n",
    "        for i in range(len(r)):\n",
    "            a=self.area(postnorm[:i+1],r[:i+1])\n",
    "            if round(a,3)==0.5000:\n",
    "                median =r[i+1]\n",
    "                break\n",
    "        \n",
    "        \n",
    "        print(\"Mode is: \" + str(mode))\n",
    "        print(\"Median is: \" + str(median))\n",
    "        return median, mode\n",
    "    \n",
    "    def area(self, post,r):    \n",
    "        return integrate.simps(post,r)\n",
    "    \n",
    "    def calc_plot_posterior(self,r, rlim=20, L=None, prior='uniform'):\n",
    "        if prior.lower()=='uniform':\n",
    "            post=self.posterior(r)\n",
    "            median,mode=self.__calc_mean_mod(post,r)\n",
    "            plt.figure(1,figsize=[10,7])\n",
    "            plt.plot(r,post,'k',lw=3)\n",
    "            plt.xlabel('r(kpc)',fontsize=12)\n",
    "            plt.ylabel('posterier probability',fontsize=12)\n",
    "            plt.title('Uniform prior',fontsize=16)\n",
    "            plt.text(15,max(post)-1,'fobs : '+str(self.f_obs)[0:8],fontsize=18)\n",
    "            plt.ylim(-0.1,max(post)+0.5)\n",
    "            plt.axvline(median,color='red',label='Median')\n",
    "            plt.axvline(mode,color='blue',label='Mode')\n",
    "            plt.legend()\n",
    "            plt.grid()\n",
    "            plt.show()\n",
    "        if prior.lower()=='exp':\n",
    "            if L==None:\n",
    "                print('Enter L')\n",
    "                return 0\n",
    "            post=self.posterior(r,L=L,prior='exp')\n",
    "            median,mode=self.__calc_mean_mod(post,r)\n",
    "            plt.figure(figsize=[10,7])\n",
    "            plt.plot(r,post/self.area(post,r),'k',lw=3)\n",
    "            plt.xlabel('r(kpc)',fontsize=12)\n",
    "            plt.ylabel('posterier probability',fontsize=12)\n",
    "            plt.title('Exponentially decreasing space density prior',fontsize=16)\n",
    "            plt.text(15,max(post/self.area(post,r)),'fobs : '+str(self.f_obs)[0:8],fontsize=18)\n",
    "            plt.ylim(-0.1,max(post/self.area(post,r))+0.5)\n",
    "            plt.axvline(median,color='red',label='Median')\n",
    "            plt.axvline(mode,color='blue',label='Mode')\n",
    "            plt.plot(r,self.expdecprior(r,L)/self.area(self.expdecprior(r,L),r),'--')\n",
    "            plt.legend()\n",
    "            plt.grid()\n",
    "            plt.show()"
   ]
  },
  {
   "cell_type": "code",
   "execution_count": 25,
   "id": "407ede8e-99fc-4283-85f7-410fc4a46766",
   "metadata": {
    "execution": {
     "iopub.execute_input": "2021-08-05T06:15:01.392034Z",
     "iopub.status.busy": "2021-08-05T06:15:01.390740Z",
     "iopub.status.idle": "2021-08-05T06:15:01.405748Z",
     "shell.execute_reply": "2021-08-05T06:15:01.403240Z",
     "shell.execute_reply.started": "2021-08-05T06:15:01.391917Z"
    },
    "tags": []
   },
   "outputs": [],
   "source": [
    "pddd=parallax_distance(parallax[1],uncertainity[1])"
   ]
  },
  {
   "cell_type": "code",
   "execution_count": 26,
   "id": "a1359cef-9de0-4729-9391-4b58de2be8d5",
   "metadata": {
    "execution": {
     "iopub.execute_input": "2021-08-05T06:15:01.607108Z",
     "iopub.status.busy": "2021-08-05T06:15:01.606296Z",
     "iopub.status.idle": "2021-08-05T06:15:01.625365Z",
     "shell.execute_reply": "2021-08-05T06:15:01.621935Z",
     "shell.execute_reply.started": "2021-08-05T06:15:01.607011Z"
    },
    "tags": []
   },
   "outputs": [],
   "source": [
    "r=pddd.create_r(0,20,50000)"
   ]
  },
  {
   "cell_type": "code",
   "execution_count": 27,
   "id": "51b82e5e-57dc-4ca3-aac1-660fca1d7f92",
   "metadata": {
    "execution": {
     "iopub.execute_input": "2021-08-05T06:15:02.063565Z",
     "iopub.status.busy": "2021-08-05T06:15:02.062539Z",
     "iopub.status.idle": "2021-08-05T06:15:14.573636Z",
     "shell.execute_reply": "2021-08-05T06:15:14.571609Z",
     "shell.execute_reply.started": "2021-08-05T06:15:02.063484Z"
    },
    "tags": []
   },
   "outputs": [
    {
     "name": "stdout",
     "output_type": "stream",
     "text": [
      "Mode is: 4.818496369927399\n",
      "Median is: 5.273705474109482\n"
     ]
    },
    {
     "data": {
      "image/png": "[encoded data removed]",
      "text/plain": [
       "<Figure size 720x504 with 1 Axes>"
      ]
     },
     "metadata": {
      "needs_background": "light"
     },
     "output_type": "display_data"
    }
   ],
   "source": [
    "post=pddd.calc_plot_posterior(r,L=1.35,prior='exp')"
   ]
  },
  {
   "cell_type": "code",
   "execution_count": 38,
   "id": "883a03d5-66b4-4ccf-8f0f-2334a7f9874b",
   "metadata": {
    "execution": {
     "iopub.execute_input": "2021-08-04T19:47:10.192544Z",
     "iopub.status.busy": "2021-08-04T19:47:10.191307Z",
     "iopub.status.idle": "2021-08-04T19:47:10.211049Z",
     "shell.execute_reply": "2021-08-04T19:47:10.208142Z",
     "shell.execute_reply.started": "2021-08-04T19:47:10.192431Z"
    },
    "tags": []
   },
   "outputs": [
    {
     "data": {
      "text/plain": [
       "<PandasArray>\n",
       "[0.051857414130793804,   0.2914332897023886,    -2.61105986977776,\n",
       "    0.554645061787115,   0.3138345401749555,   0.9336557923541684,\n",
       "    0.287508535344447,  0.18511909472327145,  0.07113652389767512,\n",
       "  -0.8225304286397639]\n",
       "Length: 10, dtype: float64"
      ]
     },
     "execution_count": 38,
     "metadata": {},
     "output_type": "execute_result"
    }
   ],
   "source": [
    "uncertainity/parallax"
   ]
  },
  {
   "cell_type": "code",
   "execution_count": null,
   "id": "cb9dd882-e489-4afb-a64a-4cc35a2c8c28",
   "metadata": {},
   "outputs": [],
   "source": []
  }
 ],
 "metadata": {
  "kernelspec": {
   "display_name": "Python 3 (ipykernel)",
   "language": "python",
   "name": "python3"
  },
  "language_info": {
   "codemirror_mode": {
    "name": "ipython",
    "version": 3
   },
   "file_extension": ".py",
   "mimetype": "text/x-python",
   "name": "python",
   "nbconvert_exporter": "python",
   "pygments_lexer": "ipython3",
   "version": "3.8.10"
  }
 },
 "nbformat": 4,
 "nbformat_minor": 5
}
